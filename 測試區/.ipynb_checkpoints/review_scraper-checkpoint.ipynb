{
 "cells": [
  {
   "cell_type": "markdown",
   "id": "c17eff2c",
   "metadata": {},
   "source": [
    "# Python3.9.12"
   ]
  },
  {
   "cell_type": "markdown",
   "id": "96b8a13e",
   "metadata": {},
   "source": [
    "## 使用套件"
   ]
  },
  {
   "cell_type": "code",
   "execution_count": 1,
   "id": "bd31e027",
   "metadata": {},
   "outputs": [],
   "source": [
    "from selenium import webdriver\n",
    "from selenium.webdriver.chrome.options import Options\n",
    "from selenium.webdriver.chrome.service import Service\n",
    "from selenium.webdriver.support import expected_conditions as EC\n",
    "from selenium.webdriver.common.by import By\n",
    "from selenium.webdriver.support.ui import WebDriverWait\n",
    "from bs4 import BeautifulSoup\n",
    "from urllib.parse import quote\n",
    "import re\n",
    "import requests\n",
    "import sys\n",
    "import os\n",
    "import time\n",
    "import json\n",
    "import html2text\n",
    "import pandas as pd\n",
    "import undetected_chromedriver as uc\n",
    "from datetime import datetime\n",
    "import json\n",
    "from webdriver_manager.chrome import ChromeDriverManager"
   ]
  },
  {
   "cell_type": "markdown",
   "id": "cdda739c",
   "metadata": {},
   "source": [
    "## 店家詳細資訊+評論"
   ]
  },
  {
   "cell_type": "code",
   "execution_count": 3,
   "id": "c37609a1",
   "metadata": {},
   "outputs": [],
   "source": [
    "def initialize_chrome(_from=\"facebook\",retry=0):\n",
    "    global driver \n",
    "    try:\n",
    "        print(\"Initializing chromedriver.\")\n",
    "        options = Options()\n",
    "        options.add_argument(\"--start-maximized\")\n",
    "        options.add_argument(\"--incognito\")\n",
    "        options.add_argument(\"--disable-gpu\")\n",
    "        options.add_argument(\"--headless\")\n",
    "        options.add_argument('--log-level=3')\n",
    "        driver = webdriver.Chrome(ChromeDriverManager().install(), options=options)\n",
    "        time.sleep(2)\n",
    "        return True\n",
    "    except Exception as e:\n",
    "        print(e)\n",
    "        pass\n",
    "\n",
    "def parse_description(description_tag):\n",
    "    h = html2text.HTML2Text()\n",
    "    h.ignore_links = True\n",
    "    description_text = h.handle(str(description_tag)) \n",
    "    return description_text\n",
    "\n",
    "#review區域\n",
    "def get_review():\n",
    "    print('請輸入開始數字\\n')\n",
    "    num = int(input())\n",
    "    end_num = 22882\n",
    "    while num <= end_num:\n",
    "        # 下一頁review內容的token(寫進url)\n",
    "        next_page_token = \"\"\n",
    "\n",
    "        # 設定biz_id(寫進url)\n",
    "        url = df['google_url'][num]\n",
    "        biz_id = re.search(r\"1s(0.*?\\:.*?)[^a-zA-Z\\d\\s:]\", url) # 寫成迴圈的時候要改一下\n",
    "        if not biz_id:\n",
    "            print(\"Not a valid url.\")\n",
    "        biz_id = biz_id.groups()[0]\n",
    "        file_name = df['file_name_2'][num]\n",
    "        reviewData = []\n",
    "        try:\n",
    "            while True:\n",
    "                url = f'https://www.google.com/async/reviewSort?yv=3&async=feature_id:{biz_id},review_source:All%20reviews,sort_by:newestFirst,is_owner:false,filter_text:,associated_topic:,next_page_token:{next_page_token},_pms:s,_fmt:json'\n",
    "                response = requests.get(url)\n",
    "\n",
    "                response = response.text.removeprefix(\")]}'\")\n",
    "\n",
    "                json_data = json.loads(response)[\"localReviewsProto\"]\n",
    "\n",
    "                if json_data.get('other_user_review'):\n",
    "                    review_data = json_data[\"other_user_review\"]\n",
    "\n",
    "                    for result in review_data:\n",
    "                        personal_rating = result['star_rating']['value']\n",
    "                        author_name = result['author_real_name']\n",
    "                        review_date = result['publish_date']['localized_date']\n",
    "                        review_acquisition_date = datetime.now().strftime(\"%Y-%m-%d\")\n",
    "                        if result.get('review_text'):\n",
    "                            review_text = parse_description(result['review_text']['full_html'])\n",
    "                        else:\n",
    "                            review_text = \"\"\n",
    "\n",
    "                        info_dict = {}        \n",
    "                        info_dict['author_name'] = author_name\n",
    "                        info_dict['personal_rating'] =  personal_rating             \n",
    "                        info_dict[\"review_date\"] = review_date\n",
    "                        info_dict[\"review_text\"] = review_text\n",
    "                        info_dict[\"review_acquisition_date\"] = review_acquisition_date\n",
    "                        info_dict[\"google_url\"] = url\n",
    "                        info_dict[\"biz_id\"] = biz_id\n",
    "                        reviewData.append(info_dict)\n",
    "\n",
    "                    next_page_token = json_data.get('next_page_token','').strip()\n",
    "                    if not next_page_token:\n",
    "                        break\n",
    "                else:\n",
    "                    break\n",
    "        except:\n",
    "            num+=1\n",
    "            continue\n",
    "        reviews_info_header = list(reviewData[0].keys())\n",
    "        reviews_info_df = pd.DataFrame.from_records(reviewData,columns=reviews_info_header)\n",
    "        reviews_info_df.to_csv(f'./data/reviews/restaurant/{file_name.replace(\"/\",\"\")[0:6]}.csv')\n",
    "        print(str(num) + ' 完成店名(review)' + place_name)\n",
    "        num += 1"
   ]
  },
  {
   "cell_type": "code",
   "execution_count": null,
   "id": "a3c549fa",
   "metadata": {},
   "outputs": [
    {
     "name": "stdout",
     "output_type": "stream",
     "text": [
      "請確定該py檔與url的cvs檔案放在相同路徑\n",
      "請輸入url檔案名稱(含完整副檔名)，例如: place_info.csv\n",
      "place_info_final.csv\n",
      "請輸入開始數字\n",
      "\n",
      "0\n",
      "0 完成店名(review)黑曜麵屋\n",
      "2 完成店名(review)日本拉麵屋\n",
      "3 完成店名(review)荷麵亭Hasumentei 北投店\n",
      "4 完成店名(review)らあめん花月嵐 北投石牌店\n"
     ]
    }
   ],
   "source": [
    "if __name__ == '__main__':\n",
    "    print('請確定該py檔與url的cvs檔案放在相同路徑')\n",
    "    file = input('請輸入url檔案名稱(含完整副檔名)，例如: place_info.csv\\n')\n",
    "    df = pd.read_csv(file)\n",
    "    time1 = time.time()\n",
    "    get_review()\n",
    "    print(f'執行總花費時間: {time.time() - time1}')\n",
    "    input('任務完成，若要關閉該視窗請輸入ENTER.....')"
   ]
  }
 ],
 "metadata": {
  "kernelspec": {
   "display_name": "Python 3 (ipykernel)",
   "language": "python",
   "name": "python3"
  },
  "language_info": {
   "codemirror_mode": {
    "name": "ipython",
    "version": 3
   },
   "file_extension": ".py",
   "mimetype": "text/x-python",
   "name": "python",
   "nbconvert_exporter": "python",
   "pygments_lexer": "ipython3",
   "version": "3.9.12"
  }
 },
 "nbformat": 4,
 "nbformat_minor": 5
}
