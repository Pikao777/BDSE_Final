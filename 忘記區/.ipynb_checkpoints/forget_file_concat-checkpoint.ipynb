{
 "cells": [
  {
   "cell_type": "code",
   "execution_count": 2,
   "id": "acd988fa",
   "metadata": {},
   "outputs": [],
   "source": [
    "import pandas as pd"
   ]
  },
  {
   "cell_type": "code",
   "execution_count": 5,
   "id": "daa059c4",
   "metadata": {},
   "outputs": [
    {
     "data": {
      "text/html": [
       "<div>\n",
       "<style scoped>\n",
       "    .dataframe tbody tr th:only-of-type {\n",
       "        vertical-align: middle;\n",
       "    }\n",
       "\n",
       "    .dataframe tbody tr th {\n",
       "        vertical-align: top;\n",
       "    }\n",
       "\n",
       "    .dataframe thead th {\n",
       "        text-align: right;\n",
       "    }\n",
       "</style>\n",
       "<table border=\"1\" class=\"dataframe\">\n",
       "  <thead>\n",
       "    <tr style=\"text-align: right;\">\n",
       "      <th></th>\n",
       "      <th>google_url</th>\n",
       "      <th>place_name</th>\n",
       "      <th>total_rating</th>\n",
       "      <th>place_category</th>\n",
       "      <th>total_reviews</th>\n",
       "      <th>cost</th>\n",
       "      <th>address</th>\n",
       "      <th>district</th>\n",
       "      <th>eat_in</th>\n",
       "      <th>to_go_1</th>\n",
       "      <th>to_go_2</th>\n",
       "      <th>delivery</th>\n",
       "      <th>opening_hours</th>\n",
       "      <th>website</th>\n",
       "      <th>phone</th>\n",
       "      <th>close</th>\n",
       "      <th>place_acquisition_date</th>\n",
       "    </tr>\n",
       "  </thead>\n",
       "  <tbody>\n",
       "    <tr>\n",
       "      <th>0</th>\n",
       "      <td>https://www.google.com.tw/maps/place/%E5%85%92...</td>\n",
       "      <td>兒童育樂中心停車場(國雲停車)</td>\n",
       "      <td>3.3</td>\n",
       "      <td>停車場</td>\n",
       "      <td>NaN</td>\n",
       "      <td>NaN</td>\n",
       "      <td>10491台北市中山區玉門街33號</td>\n",
       "      <td>Plus Code: 3GFC+XG 中山區 台北市</td>\n",
       "      <td>0</td>\n",
       "      <td>0</td>\n",
       "      <td>0</td>\n",
       "      <td>0</td>\n",
       "      <td>星期二、24 小時營業; 星期三、24 小時營業; 星期四、24 小時營業; 星期五、24 ...</td>\n",
       "      <td>NaN</td>\n",
       "      <td>NaN</td>\n",
       "      <td>NaN</td>\n",
       "      <td>2022-11-29</td>\n",
       "    </tr>\n",
       "    <tr>\n",
       "      <th>0</th>\n",
       "      <td>https://www.google.com.tw/maps/place/%E4%BE%AF...</td>\n",
       "      <td>侯黑鍋物 酸菜小火鍋 Ho Hey Hot Pot</td>\n",
       "      <td>4.9</td>\n",
       "      <td>火鍋餐廳</td>\n",
       "      <td>49.0</td>\n",
       "      <td>NaN</td>\n",
       "      <td>104台北市中山區四平街19號</td>\n",
       "      <td>Plus Code: 3G3J+FF 中山區 台北市</td>\n",
       "      <td>1</td>\n",
       "      <td>1</td>\n",
       "      <td>0</td>\n",
       "      <td>0</td>\n",
       "      <td>星期二、11:00 到 15:00、17:00 到 21:30; 星期三、11:00 到 1...</td>\n",
       "      <td>https://www.facebook.com/HoHeyHotPot</td>\n",
       "      <td>02 2567 7889</td>\n",
       "      <td>NaN</td>\n",
       "      <td>2022-11-29</td>\n",
       "    </tr>\n",
       "  </tbody>\n",
       "</table>\n",
       "</div>"
      ],
      "text/plain": [
       "                                          google_url  \\\n",
       "0  https://www.google.com.tw/maps/place/%E5%85%92...   \n",
       "0  https://www.google.com.tw/maps/place/%E4%BE%AF...   \n",
       "\n",
       "                  place_name total_rating place_category  total_reviews cost  \\\n",
       "0            兒童育樂中心停車場(國雲停車)          3.3            停車場            NaN  NaN   \n",
       "0  侯黑鍋物 酸菜小火鍋 Ho Hey Hot Pot          4.9           火鍋餐廳           49.0  NaN   \n",
       "\n",
       "              address                    district  eat_in  to_go_1  to_go_2  \\\n",
       "0   10491台北市中山區玉門街33號  Plus Code: 3GFC+XG 中山區 台北市       0        0        0   \n",
       "0     104台北市中山區四平街19號  Plus Code: 3G3J+FF 中山區 台北市       1        1        0   \n",
       "\n",
       "   delivery                                      opening_hours  \\\n",
       "0         0  星期二、24 小時營業; 星期三、24 小時營業; 星期四、24 小時營業; 星期五、24 ...   \n",
       "0         0  星期二、11:00 到 15:00、17:00 到 21:30; 星期三、11:00 到 1...   \n",
       "\n",
       "                                website          phone close  \\\n",
       "0                                   NaN            NaN   NaN   \n",
       "0  https://www.facebook.com/HoHeyHotPot   02 2567 7889   NaN   \n",
       "\n",
       "  place_acquisition_date  \n",
       "0             2022-11-29  \n",
       "0             2022-11-29  "
      ]
     },
     "execution_count": 5,
     "metadata": {},
     "output_type": "execute_result"
    }
   ],
   "source": [
    "header=['google_url', 'place_name', 'total_rating', 'place_category', 'total_reviews', 'cost', 'address', 'district', 'eat_in', 'to_go_1', 'to_go_2', 'delivery', 'opening_hours', 'website', 'phone', 'close', 'place_acquisition_date']\n",
    "df1 = pd.read_csv('./place_info_DAMA.csv', header=None, names=header)\n",
    "df2 = pd.read_csv('./place_info_Mason.csv', header=None, names=header)\n",
    "df3 = pd.read_csv('./place_info_Pikao.csv', header=None, names=header)\n",
    "df4 = pd.read_csv('./place_info_Steven1.csv', header=None, names=header)\n",
    "df5 = pd.read_csv('./place_info_Steven2.csv', header=None, names=header)\n",
    "\n",
    "df_total = pd.concat([df1,df2,df3,df4,df5])\n",
    "df_total.head(2)"
   ]
  },
  {
   "cell_type": "code",
   "execution_count": 6,
   "id": "b6a87bc7",
   "metadata": {},
   "outputs": [
    {
     "data": {
      "text/plain": [
       "13252"
      ]
     },
     "execution_count": 6,
     "metadata": {},
     "output_type": "execute_result"
    }
   ],
   "source": [
    "df_total.shape[0]"
   ]
  },
  {
   "cell_type": "code",
   "execution_count": 7,
   "id": "1ac9e9a2",
   "metadata": {
    "scrolled": true
   },
   "outputs": [
    {
     "data": {
      "text/plain": [
       "google_url                    0\n",
       "place_name                    7\n",
       "total_rating               2194\n",
       "place_category             1186\n",
       "total_reviews              4322\n",
       "cost                      10350\n",
       "address                      21\n",
       "district                    900\n",
       "eat_in                        0\n",
       "to_go_1                       0\n",
       "to_go_2                       0\n",
       "delivery                      0\n",
       "opening_hours              3879\n",
       "website                    6056\n",
       "phone                      2780\n",
       "close                     12452\n",
       "place_acquisition_date        0\n",
       "dtype: int64"
      ]
     },
     "execution_count": 7,
     "metadata": {},
     "output_type": "execute_result"
    }
   ],
   "source": [
    "df_total.isnull().sum()"
   ]
  },
  {
   "cell_type": "markdown",
   "id": "76609631",
   "metadata": {},
   "source": [
    "### 刪除重複url"
   ]
  },
  {
   "cell_type": "code",
   "execution_count": 8,
   "id": "8db9e309",
   "metadata": {},
   "outputs": [
    {
     "data": {
      "text/plain": [
       "13029"
      ]
     },
     "execution_count": 8,
     "metadata": {},
     "output_type": "execute_result"
    }
   ],
   "source": [
    "df_drop_url = df_total.drop_duplicates(subset='google_url', keep='last')\n",
    "df_drop_url.shape[0]"
   ]
  },
  {
   "cell_type": "markdown",
   "id": "94627001",
   "metadata": {},
   "source": [
    "### 刪除永久關閉、暫時停業"
   ]
  },
  {
   "cell_type": "code",
   "execution_count": 9,
   "id": "7c928fce",
   "metadata": {},
   "outputs": [
    {
     "data": {
      "text/plain": [
       "12237"
      ]
     },
     "execution_count": 9,
     "metadata": {},
     "output_type": "execute_result"
    }
   ],
   "source": [
    "df_drop_close = df_drop_url[df_drop_url['close'].isnull()]\n",
    "df_drop_close.shape[0]"
   ]
  },
  {
   "cell_type": "markdown",
   "id": "8f3b5e64",
   "metadata": {},
   "source": [
    "### 刪除沒有地點名稱"
   ]
  },
  {
   "cell_type": "code",
   "execution_count": 10,
   "id": "3536e44d",
   "metadata": {},
   "outputs": [
    {
     "data": {
      "text/plain": [
       "12230"
      ]
     },
     "execution_count": 10,
     "metadata": {},
     "output_type": "execute_result"
    }
   ],
   "source": [
    "df_drop_name = df_drop_close.dropna(subset='place_name')\n",
    "df_drop_name.shape[0]"
   ]
  },
  {
   "cell_type": "markdown",
   "id": "f0903d13",
   "metadata": {},
   "source": [
    "### 刪除沒有評論"
   ]
  },
  {
   "cell_type": "code",
   "execution_count": 11,
   "id": "759abe7d",
   "metadata": {},
   "outputs": [
    {
     "data": {
      "text/plain": [
       "8322"
      ]
     },
     "execution_count": 11,
     "metadata": {},
     "output_type": "execute_result"
    }
   ],
   "source": [
    "df_drop_reviews = df_drop_name.dropna(subset='total_reviews')\n",
    "df_drop_reviews.shape[0]"
   ]
  },
  {
   "cell_type": "markdown",
   "id": "335b72be",
   "metadata": {},
   "source": [
    "### 刪除地址空值&非台北"
   ]
  },
  {
   "cell_type": "code",
   "execution_count": 12,
   "id": "1028bdf5",
   "metadata": {},
   "outputs": [
    {
     "data": {
      "text/plain": [
       "3962"
      ]
     },
     "execution_count": 12,
     "metadata": {},
     "output_type": "execute_result"
    }
   ],
   "source": [
    "df_drop_address = df_drop_reviews.dropna(subset='address')\n",
    "df_taipei = df_drop_address[df_drop_address['address'].str.contains('台北市')]\n",
    "df_taipei.shape[0]"
   ]
  },
  {
   "cell_type": "markdown",
   "id": "d9c54dd5",
   "metadata": {},
   "source": [
    "### 刪除類別空值"
   ]
  },
  {
   "cell_type": "code",
   "execution_count": 23,
   "id": "a21f1177",
   "metadata": {},
   "outputs": [
    {
     "data": {
      "text/plain": [
       "3762"
      ]
     },
     "execution_count": 23,
     "metadata": {},
     "output_type": "execute_result"
    }
   ],
   "source": [
    "df_taipei = df_taipei.dropna(subset='place_category')\n",
    "df_taipei.shape[0]"
   ]
  },
  {
   "cell_type": "markdown",
   "id": "0fb0a3ba",
   "metadata": {},
   "source": [
    "### 刪除district空值"
   ]
  },
  {
   "cell_type": "code",
   "execution_count": 25,
   "id": "a7583d6c",
   "metadata": {},
   "outputs": [
    {
     "data": {
      "text/plain": [
       "3761"
      ]
     },
     "execution_count": 25,
     "metadata": {},
     "output_type": "execute_result"
    }
   ],
   "source": [
    "df_taipei = df_taipei.dropna(subset='district')\n",
    "df_taipei.shape[0]"
   ]
  },
  {
   "cell_type": "markdown",
   "id": "e57f4d22",
   "metadata": {},
   "source": [
    "### 查看整理後空值"
   ]
  },
  {
   "cell_type": "code",
   "execution_count": 26,
   "id": "57a96f3a",
   "metadata": {
    "scrolled": true
   },
   "outputs": [
    {
     "data": {
      "text/plain": [
       "google_url                   0\n",
       "place_name                   0\n",
       "total_rating                 0\n",
       "place_category               0\n",
       "total_reviews                0\n",
       "cost                      2916\n",
       "address                      0\n",
       "district                     0\n",
       "eat_in                       0\n",
       "to_go_1                      0\n",
       "to_go_2                      0\n",
       "delivery                     0\n",
       "opening_hours              287\n",
       "website                   1228\n",
       "phone                      329\n",
       "close                     3761\n",
       "place_acquisition_date       0\n",
       "dtype: int64"
      ]
     },
     "execution_count": 26,
     "metadata": {},
     "output_type": "execute_result"
    }
   ],
   "source": [
    "df_taipei.isnull().sum()"
   ]
  },
  {
   "cell_type": "markdown",
   "id": "faf76991",
   "metadata": {},
   "source": [
    "## 查看類別"
   ]
  },
  {
   "cell_type": "code",
   "execution_count": 64,
   "id": "0bbdf7c9",
   "metadata": {},
   "outputs": [
    {
     "data": {
      "text/plain": [
       "array(['日本餐廳', '餐廳', '多功能室設施', '購物中心', '鰻魚料理餐廳', '農產品市場', '台灣餐廳', '快餐店',\n",
       "       '展覽場地', '潛艇漢堡餐廳', '兒童館', '佛寺', '意大利麵食店', '酒吧', '熟食店', '博物館', '咖啡店',\n",
       "       '麵包西餅店', '演藝劇場', '早餐餐廳', '珍珠奶茶店', '雪糕店', '意大利餐廳', '冰品飲料店', '自助餐餐廳',\n",
       "       '美食廣場', '純素餐廳', '中菜外送餐館', '麵店', '百貨公司', '咖啡廳', '超級市場', '擔擔麵專門店',\n",
       "       '便利店', '甜品店', '中餐館', '甜品餐廳', '早午餐餐廳', '公車站', '停車場', '中式麵食店',\n",
       "       '小餐館 (Bistro)', '亞洲菜餐廳', '火鍋餐廳', '烏冬專門店', '餃子店', '小吃店', '飯盒供應商',\n",
       "       '電訊服務商', '日式咖哩餐廳', '日式炸豬扒餐廳', '無酒精飲料店', '葡萄酒批發商及進口商', '酒品專賣店',\n",
       "       '長壽飲食餐廳', '雞尾酒酒吧', '水煙壺吧', '外帶咖啡專賣店', '炸物串與串炸餐廳', '共同工作空間',\n",
       "       '連排房屋社區', '遊戲店', '健康食品專賣店', '協會或機構', '培訓中心', '食品製造供應', '茶葉店',\n",
       "       '行山徑', '雜貨店', '豆腐店', '日式糖果店', '髮廊', '日式燒肉餐廳', '幼稚園', '外賣自取餐廳',\n",
       "       '宴會廳', '廚藝學校', '粥餐廳', '居酒屋', '有機藥局', '電器零售', '表演場地', '健身室', '果汁店',\n",
       "       '美式餐廳', '漫畫店', '漢堡餐廳', '紀念品商店', '老年保健', '芝士專賣店', '公司辦公室', '進口商',\n",
       "       '服裝店', '水果批發商', '商店', '花店', '海鮮餐廳', '宗教用品店', '化妝品店', '冬甩店', '私人屋苑',\n",
       "       '自助餐廳', '樂器店', '烘焙設備', '寵物用品店', '指甲腳甲修飾專門店', '娛樂機構', '大學',\n",
       "       '墨西哥夾餅餐廳', '薄餅餐廳', '中式包點店', '蔬果店', '辦公用品店', '瓷磚店', '牛丼餐廳', '素食餐廳',\n",
       "       '鞋品店', '藥房', '精品店', '卡拉 OK 酒吧', '啤酒專賣店', '現場音樂酒吧', '按摩治療師', '旅行社',\n",
       "       '寵物店', '酒吧雅座', '鋼琴酒吧', '家電客戶服務', '水族店', '公寓社區', '婦產科醫生', '書店',\n",
       "       '輕食餐廳', '游泳池', '現代居酒屋', '輪胎店', '陶器專賣店', '棋牌俱樂部', '美容護膚診所', '傢俬店',\n",
       "       '傳統市場', '水療美容中心', '辦公室租借代理', '美睫沙龍', '供水公司', '壽司店', '天然食品店',\n",
       "       '餐廳用品店', '飲料', '廚房用品店', '健康食品餐廳', '紋身店', '伴唱帶 KTV', '書報攤',\n",
       "       '邀請函印刷服務', '西餅店', '床褥店', '助聽器店', '郵政局', '保險箱店', '關東煮餐廳', '朱古力店',\n",
       "       '糕餅店', '公園', '寺廟', '食品供應商', '時裝及配飾店', '網吧', '日本雜貨店', '家居用品店',\n",
       "       '裁縫店', '咖啡批發商', '相片沖印店', '結婚攝影師', '薄餅速遞', '婚禮場地', '歷史建築', '有機食品店',\n",
       "       '廚櫃店', '雪茄店', '肉販', '攝影工作室', '兒童家具店', '中菜館', '咖啡烘焙商', '英語學校',\n",
       "       '外送速遞餐廳', '角色扮演咖啡廳', '葡萄酒吧', '地產公司', '玩具模型店', '普拉提中心',\n",
       "       '壽喜燒和日式火鍋餐廳', '畫廊', '珠寶店', '眼鏡店', '蒸餾咖啡吧', '薄餅外賣自取', '腳底按摩店',\n",
       "       '理髮師', '冷麵店', '日式烤雞串餐廳', '運動按摩治療師', '餡餅店', '越南餐廳', '批發商', '韓國餐廳',\n",
       "       '室內停車場', '港式快餐店', '酒吧扒房', '足浴', '有機商店', '餐具店', '室內設計服務', '茶市',\n",
       "       '攝影服務', '油站', '玩具店', '俱樂部', '公寓大廈', '複印店', '工藝材料用品店', '燒烤', '花園',\n",
       "       '遊樂場', '設計公司', '旅遊景點', '城市公園', '戶外運動用品店', '洗衣店', '中央政府部門',\n",
       "       '密室逃脫中心', '柬埔寨餐廳', '歷史景點', '食堂與定食餐廳', '大型超級市場', '平價超級市場', '中式茶館',\n",
       "       '音樂廳', '地鐵站', '商業中心', '三文治店', '雞肉餐廳', '禮品店', '夜總會', '非牟利組織',\n",
       "       '亞洲  Fusion 菜餐廳', '醫療診所', '市場', '愛爾蘭酒吧', '藝術中心', '茶藝館', '手機維修店',\n",
       "       '唱片店', '串燒烤肉店', '飛鏢酒吧', '政府辦事處', '平面設計公司', '歷史地標', '公證人', '音響器材店',\n",
       "       '醫療用品店', '旅遊運營商', '鐘錶店', '現場音樂表演場地', '運輸服務', '虛擬辦公室出租', '園藝店',\n",
       "       '職業介紹所', '酒類零售專賣', '餐廳或咖啡店', '炸魚薯條餐廳', '公司', '中式糕餅店', '課後補習班',\n",
       "       '婚禮服務', '內科醫師', '嬰兒用品店', '修道院', '蜜蠟脫毛服務', '運動服裝店', '釣魚池', '女士服裝店',\n",
       "       '市集', '燒烤餐廳', '沙律店', '牙醫', '肉類批發商', '雞肉店', '婚禮糕餅店', '研究與產品開發',\n",
       "       '禮盒專賣店', '立食吧', '小學', '包包店', '四川酒家', '道觀', '文具店', '體檢中心', '健身俱樂部',\n",
       "       '政黨', '廣告公司', '滬菜館', '青年活動中心', '烘焙用具店', '運動用品店', '寶馬經銷商',\n",
       "       '冷凍食品製造商', '運動營養補給品商店', '相機專賣店', '觀景台', '農產品批發商', '食品製造商', '植物園',\n",
       "       '房屋委員會', '孕婦護理中心', '駕駛學校', 'MINI 經銷商', '汽車維修及保養', '本田經銷商', '豐田經銷商',\n",
       "       '凌志經銷商', '燈飾店', '電力公司', '市場策劃公司', '客家菜館', '迴轉壽司餐廳', '銀行', '單車維修店',\n",
       "       '高級食材店', '男士理髮店', '鎖匠', '酒品店', '法院', '歷史博物館', '西餐廳', '運動酒吧',\n",
       "       '迷你自存倉', '同業公會', '紙版遊戲俱樂部', '教育機構', '社會服務機構', '互聯網服務供應商', '清潔服務',\n",
       "       '修眉吧', '健康諮商師', '景點', '桌球室', '寵物美容師', '美容院', '古董家具店', '同性戀酒吧',\n",
       "       '古董店', '夏威夷蓋飯專賣店', '酒吧餐廳傢俱店', '音樂學校', '自然保護區', '酒類庫存設施', '男子高中',\n",
       "       '滑板用品店', '設攤服務', '倉庫設施', '五金用品店', '天主教教堂', '汽車美容服務', '警局', '警察局',\n",
       "       '經理人公司', '運動協會', '衛浴用品店', '窗簾專賣店', '兒科', '攝影機維修服務', '皮革用品店', '藝術家',\n",
       "       '公共圖書館', '娛樂中心', '中醫診所', '婚姻顧問', '脊醫', '藝術團體', '遊艇會', '巴士站', '摩天輪',\n",
       "       '手機配件專賣店', '軍事基地', '教堂', '花式撞球俱樂部', '電子煙專門店', '體育用品店', '語言學校',\n",
       "       '乒乓球設施', '清酒釀製廠', '當舖', '內衣專賣店', '理髮用品店', '汽車用品店', '舞蹈學院',\n",
       "       '房地產開發商', '慈善團體', '歌舞廳', '研究機構', '鎖店', '骨科診所', '牙科診所', '飲品分銷商',\n",
       "       '錄音室', '手芸教室', '工業設備供應商', '文化中心', '家庭餐廳', '海味店', '珠寶商', '商業園',\n",
       "       '印尼餐廳', '印章店', '文化地標', '曲奇餅店', '汽車修復服務', '錢幣經銷商', '電腦專門店', '資訊站',\n",
       "       '補習班', '商店設備供應商', '防治蟲害服務', '黑膠唱片店', '電腦配件專門店', '大學附設醫院', '水電承辦商',\n",
       "       '住宅發展', '浸信會', '冷凍倉', '保險公司', '私立大學', '移民歸化局', '保健與美容用品店', '律師事務所',\n",
       "       '手機維修服務', '稅務部門', '會議中心', '法學院', '教育中心', '公立大學', '社區學院', '職業學校',\n",
       "       '加工肉品店', '健康顧問', '美容護膚中心', '印度餐廳', '電子商務服務', '電視台', '媒體公司', '出版社',\n",
       "       '墨西哥捲餅餐廳', '醫院', '刺繡服務', '麵包圈店', '跳蚤市場', '主題公園/遊樂場', '學生宿舍',\n",
       "       '會計師樓', '學校宿舍', '墨西哥餐廳', '金融機構', '美術用品商店', '中學', '大學圖書館', '圖書館',\n",
       "       '鮮食市場', '音樂製作', '鋼筆店', '二手店', '翻譯服務', '血管外科醫生', '美容師', '婚紗店', '顧問',\n",
       "       '法律服務', '乒乓球用品店', '醫療水療', '天然氣公司', '宗教組織', '香薰療法服務', '電單車經銷商',\n",
       "       '籃球場', '房地產代理', '公職考試補習班', '單車店', '中藥店', '進修中心', '紀念公園', '清真寺',\n",
       "       '耳鼻喉科診所', '女子高中', '教育', '兒童遊樂中心', '商店與購物', '電單車配件店', '地產',\n",
       "       '電腦支援及服務', '廚房家具店', '水族館', '建築師樓', '共用商業廚房', '綜合運動中心', '珠寶批發商',\n",
       "       'K 書中心', '人壽保險代理', '戲院', '食品調味料製造商', '露天廣場', '班戟店', '海事博物館', '教育部',\n",
       "       '國家博物館', '現代歐洲餐廳', '稅務員辦事處', '爆谷店', '鐘錶修理服務', '制服店', '彩票零售商',\n",
       "       '健康中心', '藝術博物館', '火腿店', '夜市', '小型電單車維修店', '捐血中心', '機場接送服務', '教育顧問',\n",
       "       '軟件公司', '小食店', '地方法院', '縫紉用品店/男子服飾店', '廚房改建公司', '烹飪學校'],\n",
       "      dtype=object)"
      ]
     },
     "execution_count": 64,
     "metadata": {},
     "output_type": "execute_result"
    }
   ],
   "source": [
    "df_taipei['place_category'].unique()"
   ]
  },
  {
   "cell_type": "markdown",
   "id": "e8320e8c",
   "metadata": {},
   "source": [
    "## 類別篩選"
   ]
  },
  {
   "cell_type": "code",
   "execution_count": 27,
   "id": "78296686",
   "metadata": {},
   "outputs": [],
   "source": [
    "category_pikao = pd.read_csv('category_pikao.csv', header=None)"
   ]
  },
  {
   "cell_type": "code",
   "execution_count": 28,
   "id": "74088333",
   "metadata": {},
   "outputs": [],
   "source": [
    "df_category = df_taipei[df_taipei['place_category'].isin(category_pikao[0])]\n",
    "df_category.to_csv('place_info_final_2.csv', index=None)"
   ]
  },
  {
   "cell_type": "markdown",
   "id": "6aba7b2c",
   "metadata": {},
   "source": [
    "### 篩選完剩下2262筆"
   ]
  },
  {
   "cell_type": "code",
   "execution_count": 29,
   "id": "4bd3d54e",
   "metadata": {},
   "outputs": [
    {
     "data": {
      "text/plain": [
       "(2262, 17)"
      ]
     },
     "execution_count": 29,
     "metadata": {},
     "output_type": "execute_result"
    }
   ],
   "source": [
    "df_category.shape"
   ]
  },
  {
   "cell_type": "markdown",
   "id": "67129644",
   "metadata": {},
   "source": [
    "# 比對place_info_final"
   ]
  },
  {
   "cell_type": "code",
   "execution_count": 51,
   "id": "34b359bc",
   "metadata": {},
   "outputs": [
    {
     "data": {
      "text/html": [
       "<div>\n",
       "<style scoped>\n",
       "    .dataframe tbody tr th:only-of-type {\n",
       "        vertical-align: middle;\n",
       "    }\n",
       "\n",
       "    .dataframe tbody tr th {\n",
       "        vertical-align: top;\n",
       "    }\n",
       "\n",
       "    .dataframe thead th {\n",
       "        text-align: right;\n",
       "    }\n",
       "</style>\n",
       "<table border=\"1\" class=\"dataframe\">\n",
       "  <thead>\n",
       "    <tr style=\"text-align: right;\">\n",
       "      <th></th>\n",
       "      <th>google_url</th>\n",
       "      <th>place_name</th>\n",
       "      <th>total_rating</th>\n",
       "      <th>place_category</th>\n",
       "      <th>total_reviews</th>\n",
       "      <th>cost</th>\n",
       "      <th>address</th>\n",
       "      <th>district</th>\n",
       "      <th>eat_in</th>\n",
       "      <th>to_go_1</th>\n",
       "      <th>to_go_2</th>\n",
       "      <th>delivery</th>\n",
       "      <th>opening_hours</th>\n",
       "      <th>website</th>\n",
       "      <th>phone</th>\n",
       "      <th>close</th>\n",
       "      <th>place_acquisition_date</th>\n",
       "      <th>file_name_1</th>\n",
       "      <th>file_name_2</th>\n",
       "    </tr>\n",
       "  </thead>\n",
       "  <tbody>\n",
       "    <tr>\n",
       "      <th>22882</th>\n",
       "      <td>https://www.google.com.tw/maps/place/%E7%A2%B3...</td>\n",
       "      <td>碳烤赤肉胡椒餅蔥花燒餅</td>\n",
       "      <td>4.2</td>\n",
       "      <td>餡餅店</td>\n",
       "      <td>54</td>\n",
       "      <td>$</td>\n",
       "      <td>105台北市松山區南京東路五段123巷45號</td>\n",
       "      <td>Plus Code: 3H36+G7 松山區 台北市</td>\n",
       "      <td>0</td>\n",
       "      <td>1</td>\n",
       "      <td>0</td>\n",
       "      <td>0</td>\n",
       "      <td>星期二、11:30 到 21:00; 星期三、11:30 到 21:00; 星期四、11:3...</td>\n",
       "      <td>NaN</td>\n",
       "      <td>02 2766 6845</td>\n",
       "      <td>NaN</td>\n",
       "      <td>2022-11-22</td>\n",
       "      <td>22882</td>\n",
       "      <td>22882_碳烤赤肉</td>\n",
       "    </tr>\n",
       "  </tbody>\n",
       "</table>\n",
       "</div>"
      ],
      "text/plain": [
       "                                              google_url   place_name  \\\n",
       "22882  https://www.google.com.tw/maps/place/%E7%A2%B3...  碳烤赤肉胡椒餅蔥花燒餅   \n",
       "\n",
       "       total_rating place_category  total_reviews cost  \\\n",
       "22882           4.2            餡餅店             54    $   \n",
       "\n",
       "                       address                    district  eat_in  to_go_1  \\\n",
       "22882   105台北市松山區南京東路五段123巷45號  Plus Code: 3H36+G7 松山區 台北市       0        1   \n",
       "\n",
       "       to_go_2  delivery                                      opening_hours  \\\n",
       "22882        0         0  星期二、11:30 到 21:00; 星期三、11:30 到 21:00; 星期四、11:3...   \n",
       "\n",
       "      website          phone  close place_acquisition_date  file_name_1  \\\n",
       "22882     NaN   02 2766 6845    NaN             2022-11-22        22882   \n",
       "\n",
       "      file_name_2  \n",
       "22882  22882_碳烤赤肉  "
      ]
     },
     "execution_count": 51,
     "metadata": {},
     "output_type": "execute_result"
    }
   ],
   "source": [
    "final = pd.read_csv('place_info_final.csv', index_col=0)\n",
    "final.tail(1)"
   ]
  },
  {
   "cell_type": "code",
   "execution_count": 55,
   "id": "ba4fbef3",
   "metadata": {},
   "outputs": [
    {
     "data": {
      "text/html": [
       "<div>\n",
       "<style scoped>\n",
       "    .dataframe tbody tr th:only-of-type {\n",
       "        vertical-align: middle;\n",
       "    }\n",
       "\n",
       "    .dataframe tbody tr th {\n",
       "        vertical-align: top;\n",
       "    }\n",
       "\n",
       "    .dataframe thead th {\n",
       "        text-align: right;\n",
       "    }\n",
       "</style>\n",
       "<table border=\"1\" class=\"dataframe\">\n",
       "  <thead>\n",
       "    <tr style=\"text-align: right;\">\n",
       "      <th></th>\n",
       "      <th>google_url</th>\n",
       "      <th>place_name</th>\n",
       "      <th>total_rating</th>\n",
       "      <th>place_category</th>\n",
       "      <th>total_reviews</th>\n",
       "      <th>cost</th>\n",
       "      <th>address</th>\n",
       "      <th>district</th>\n",
       "      <th>eat_in</th>\n",
       "      <th>to_go_1</th>\n",
       "      <th>to_go_2</th>\n",
       "      <th>delivery</th>\n",
       "      <th>opening_hours</th>\n",
       "      <th>website</th>\n",
       "      <th>phone</th>\n",
       "      <th>close</th>\n",
       "      <th>place_acquisition_date</th>\n",
       "    </tr>\n",
       "  </thead>\n",
       "  <tbody>\n",
       "    <tr>\n",
       "      <th>0</th>\n",
       "      <td>https://www.google.com.tw/maps/place/%E8%94%A6...</td>\n",
       "      <td>蔦飼料BirDining</td>\n",
       "      <td>4.6</td>\n",
       "      <td>日本餐廳</td>\n",
       "      <td>112.0</td>\n",
       "      <td>NaN</td>\n",
       "      <td>10491台北市中山區大直街32號</td>\n",
       "      <td>Plus Code: 3GJW+JG 中山區 台北市</td>\n",
       "      <td>1</td>\n",
       "      <td>1</td>\n",
       "      <td>0</td>\n",
       "      <td>1</td>\n",
       "      <td>NaN</td>\n",
       "      <td>https://instagram.com/birdining?utm_medium=cop...</td>\n",
       "      <td>02 2533 6608</td>\n",
       "      <td>NaN</td>\n",
       "      <td>2022-11-29</td>\n",
       "    </tr>\n",
       "  </tbody>\n",
       "</table>\n",
       "</div>"
      ],
      "text/plain": [
       "                                          google_url    place_name  \\\n",
       "0  https://www.google.com.tw/maps/place/%E8%94%A6...  蔦飼料BirDining   \n",
       "\n",
       "   total_rating place_category  total_reviews cost             address  \\\n",
       "0           4.6           日本餐廳          112.0  NaN   10491台北市中山區大直街32號   \n",
       "\n",
       "                     district  eat_in  to_go_1  to_go_2  delivery  \\\n",
       "0  Plus Code: 3GJW+JG 中山區 台北市       1        1        0         1   \n",
       "\n",
       "  opening_hours                                            website  \\\n",
       "0           NaN  https://instagram.com/birdining?utm_medium=cop...   \n",
       "\n",
       "           phone  close place_acquisition_date  \n",
       "0   02 2533 6608    NaN             2022-11-29  "
      ]
     },
     "execution_count": 55,
     "metadata": {},
     "output_type": "execute_result"
    }
   ],
   "source": [
    "final2 = pd.read_csv('place_info_final_2.csv')\n",
    "final2.head(1)"
   ]
  },
  {
   "cell_type": "markdown",
   "id": "8b8e932a",
   "metadata": {},
   "source": [
    "## place_info_final concat place_info_final_2"
   ]
  },
  {
   "cell_type": "code",
   "execution_count": 68,
   "id": "24f4b33c",
   "metadata": {},
   "outputs": [],
   "source": [
    "final3 = pd.concat([final,final2])"
   ]
  },
  {
   "cell_type": "code",
   "execution_count": 70,
   "id": "3a2eb16a",
   "metadata": {},
   "outputs": [],
   "source": [
    "final3.reset_index(inplace = True)"
   ]
  },
  {
   "cell_type": "code",
   "execution_count": 72,
   "id": "c0b96a56",
   "metadata": {},
   "outputs": [],
   "source": [
    "final3['file_name_1'] = final3.index"
   ]
  },
  {
   "cell_type": "code",
   "execution_count": 76,
   "id": "04cd3a96",
   "metadata": {},
   "outputs": [],
   "source": [
    "final3 = final3.drop(columns=['index'])"
   ]
  },
  {
   "cell_type": "code",
   "execution_count": 79,
   "id": "d78b803c",
   "metadata": {},
   "outputs": [
    {
     "data": {
      "text/html": [
       "<div>\n",
       "<style scoped>\n",
       "    .dataframe tbody tr th:only-of-type {\n",
       "        vertical-align: middle;\n",
       "    }\n",
       "\n",
       "    .dataframe tbody tr th {\n",
       "        vertical-align: top;\n",
       "    }\n",
       "\n",
       "    .dataframe thead th {\n",
       "        text-align: right;\n",
       "    }\n",
       "</style>\n",
       "<table border=\"1\" class=\"dataframe\">\n",
       "  <thead>\n",
       "    <tr style=\"text-align: right;\">\n",
       "      <th></th>\n",
       "      <th>google_url</th>\n",
       "      <th>place_name</th>\n",
       "      <th>total_rating</th>\n",
       "      <th>place_category</th>\n",
       "      <th>total_reviews</th>\n",
       "      <th>cost</th>\n",
       "      <th>address</th>\n",
       "      <th>district</th>\n",
       "      <th>eat_in</th>\n",
       "      <th>to_go_1</th>\n",
       "      <th>to_go_2</th>\n",
       "      <th>delivery</th>\n",
       "      <th>opening_hours</th>\n",
       "      <th>website</th>\n",
       "      <th>phone</th>\n",
       "      <th>close</th>\n",
       "      <th>place_acquisition_date</th>\n",
       "      <th>file_name_1</th>\n",
       "      <th>file_name_2</th>\n",
       "    </tr>\n",
       "  </thead>\n",
       "  <tbody>\n",
       "    <tr>\n",
       "      <th>0</th>\n",
       "      <td>https://www.google.com.tw/maps/place/%E9%BB%91...</td>\n",
       "      <td>黑曜麵屋</td>\n",
       "      <td>4.1</td>\n",
       "      <td>拉麵店</td>\n",
       "      <td>379.0</td>\n",
       "      <td>$</td>\n",
       "      <td>112台北市北投區尊賢街206巷2號</td>\n",
       "      <td>Plus Code: 4G85+47 北投區 台北市</td>\n",
       "      <td>1</td>\n",
       "      <td>1</td>\n",
       "      <td>0</td>\n",
       "      <td>1</td>\n",
       "      <td>星期二、11:00 到 21:00; 星期三、11:00 到 21:00; 星期四、11:0...</td>\n",
       "      <td>https://www.facebook.com/Obsidianhouse/</td>\n",
       "      <td>0979 047 907</td>\n",
       "      <td>NaN</td>\n",
       "      <td>2022-11-22</td>\n",
       "      <td>0</td>\n",
       "      <td>0_黑曜麵屋</td>\n",
       "    </tr>\n",
       "    <tr>\n",
       "      <th>1</th>\n",
       "      <td>https://www.google.com.tw/maps/place/%E6%A8%82...</td>\n",
       "      <td>樂山窄巷拉麵</td>\n",
       "      <td>4.1</td>\n",
       "      <td>拉麵店</td>\n",
       "      <td>1681.0</td>\n",
       "      <td>$$</td>\n",
       "      <td>112台北市北投區大同街27號</td>\n",
       "      <td>Plus Code: 4FMX+5J 北投區 台北市</td>\n",
       "      <td>1</td>\n",
       "      <td>1</td>\n",
       "      <td>0</td>\n",
       "      <td>0</td>\n",
       "      <td>星期二、11:00 到 14:30、17:00 到 20:30; 星期三、11:00 到 1...</td>\n",
       "      <td>https://www.facebook.com/rakuzan428/</td>\n",
       "      <td>02 2892 6265</td>\n",
       "      <td>NaN</td>\n",
       "      <td>2022-11-22</td>\n",
       "      <td>1</td>\n",
       "      <td>1_樂山窄巷</td>\n",
       "    </tr>\n",
       "    <tr>\n",
       "      <th>2</th>\n",
       "      <td>https://www.google.com.tw/maps/place/%E6%97%A5...</td>\n",
       "      <td>日本拉麵屋</td>\n",
       "      <td>4.0</td>\n",
       "      <td>拉麵店</td>\n",
       "      <td>310.0</td>\n",
       "      <td>$</td>\n",
       "      <td>112台北市北投區中和街303號</td>\n",
       "      <td>Plus Code: 4FRX+7X 北投區 台北市</td>\n",
       "      <td>1</td>\n",
       "      <td>1</td>\n",
       "      <td>0</td>\n",
       "      <td>0</td>\n",
       "      <td>星期二、11:30 到 14:00、17:00 到 21:00; 星期三、11:30 到 1...</td>\n",
       "      <td>http://keeat.pixnet.net/blog/post/443310128</td>\n",
       "      <td>02 2893 4585</td>\n",
       "      <td>NaN</td>\n",
       "      <td>2022-11-22</td>\n",
       "      <td>2</td>\n",
       "      <td>2_日本拉麵</td>\n",
       "    </tr>\n",
       "    <tr>\n",
       "      <th>3</th>\n",
       "      <td>https://www.google.com.tw/maps/place/%E8%8D%B7...</td>\n",
       "      <td>荷麵亭Hasumentei 北投店</td>\n",
       "      <td>4.4</td>\n",
       "      <td>拉麵店</td>\n",
       "      <td>245.0</td>\n",
       "      <td>NaN</td>\n",
       "      <td>112台北市北投區育仁路45號</td>\n",
       "      <td>Plus Code: 4FMX+95 北投區 台北市</td>\n",
       "      <td>1</td>\n",
       "      <td>1</td>\n",
       "      <td>0</td>\n",
       "      <td>0</td>\n",
       "      <td>星期二、11:40 到 14:30、17:10 到 20:30; 星期三、11:40 到 1...</td>\n",
       "      <td>https://www.facebook.com/HASUMENTEI</td>\n",
       "      <td>02 2898 2565</td>\n",
       "      <td>NaN</td>\n",
       "      <td>2022-11-22</td>\n",
       "      <td>3</td>\n",
       "      <td>3_荷麵亭H</td>\n",
       "    </tr>\n",
       "    <tr>\n",
       "      <th>4</th>\n",
       "      <td>https://www.google.com.tw/maps/place/%E3%82%89...</td>\n",
       "      <td>らあめん花月嵐 北投石牌店</td>\n",
       "      <td>3.3</td>\n",
       "      <td>拉麵店</td>\n",
       "      <td>328.0</td>\n",
       "      <td>$$</td>\n",
       "      <td>112台北市北投區石牌路二段122號</td>\n",
       "      <td>Plus Code: 4G98+4W 北投區 台北市</td>\n",
       "      <td>1</td>\n",
       "      <td>0</td>\n",
       "      <td>1</td>\n",
       "      <td>1</td>\n",
       "      <td>星期二、11:00 到 22:00; 星期三、11:00 到 22:00; 星期四、11:0...</td>\n",
       "      <td>https://www.kagetsu.com.tw/</td>\n",
       "      <td>02 2822 0228</td>\n",
       "      <td>NaN</td>\n",
       "      <td>2022-11-22</td>\n",
       "      <td>4</td>\n",
       "      <td>4_らあめん</td>\n",
       "    </tr>\n",
       "    <tr>\n",
       "      <th>...</th>\n",
       "      <td>...</td>\n",
       "      <td>...</td>\n",
       "      <td>...</td>\n",
       "      <td>...</td>\n",
       "      <td>...</td>\n",
       "      <td>...</td>\n",
       "      <td>...</td>\n",
       "      <td>...</td>\n",
       "      <td>...</td>\n",
       "      <td>...</td>\n",
       "      <td>...</td>\n",
       "      <td>...</td>\n",
       "      <td>...</td>\n",
       "      <td>...</td>\n",
       "      <td>...</td>\n",
       "      <td>...</td>\n",
       "      <td>...</td>\n",
       "      <td>...</td>\n",
       "      <td>...</td>\n",
       "    </tr>\n",
       "    <tr>\n",
       "      <th>25140</th>\n",
       "      <td>https://www.google.com.tw/maps/place/%E7%87%83...</td>\n",
       "      <td>燃•食健康餐-寧波店</td>\n",
       "      <td>4.8</td>\n",
       "      <td>餐廳</td>\n",
       "      <td>153.0</td>\n",
       "      <td>NaN</td>\n",
       "      <td>10034台北市中正區寧波西街52號</td>\n",
       "      <td>Plus Code: 2GJ9+74 中正區 台北市</td>\n",
       "      <td>1</td>\n",
       "      <td>1</td>\n",
       "      <td>0</td>\n",
       "      <td>1</td>\n",
       "      <td>星期二、11:00 到 13:30、17:00 到 19:30; 星期三、11:00 到 1...</td>\n",
       "      <td>https://lin.ee/rdm72GE</td>\n",
       "      <td>02 2337 0332</td>\n",
       "      <td>NaN</td>\n",
       "      <td>2022-11-29</td>\n",
       "      <td>25140</td>\n",
       "      <td>NaN</td>\n",
       "    </tr>\n",
       "    <tr>\n",
       "      <th>25141</th>\n",
       "      <td>https://www.google.com.tw/maps/place/%E5%82%BB...</td>\n",
       "      <td>傻瓜乾麵魚丸</td>\n",
       "      <td>4.0</td>\n",
       "      <td>麵店</td>\n",
       "      <td>322.0</td>\n",
       "      <td>$</td>\n",
       "      <td>100台北市中正區牯嶺街48號</td>\n",
       "      <td>Plus Code: 2GH8+MQ 中正區 台北市</td>\n",
       "      <td>1</td>\n",
       "      <td>1</td>\n",
       "      <td>0</td>\n",
       "      <td>1</td>\n",
       "      <td>星期二、06:30 到 18:30; 星期三、06:30 到 18:30; 星期四、06:3...</td>\n",
       "      <td>NaN</td>\n",
       "      <td>02 2396 8779</td>\n",
       "      <td>NaN</td>\n",
       "      <td>2022-11-29</td>\n",
       "      <td>25141</td>\n",
       "      <td>NaN</td>\n",
       "    </tr>\n",
       "    <tr>\n",
       "      <th>25142</th>\n",
       "      <td>https://www.google.com.tw/maps/place/%E4%B8%BB...</td>\n",
       "      <td>主耀廚房</td>\n",
       "      <td>5.0</td>\n",
       "      <td>餐廳</td>\n",
       "      <td>11.0</td>\n",
       "      <td>NaN</td>\n",
       "      <td>100台北市中正區汀州路三段15號</td>\n",
       "      <td>Plus Code: 2GCG+3G 中正區 台北市</td>\n",
       "      <td>1</td>\n",
       "      <td>0</td>\n",
       "      <td>1</td>\n",
       "      <td>0</td>\n",
       "      <td>NaN</td>\n",
       "      <td>https://restaurant-1111195.business.site/?utm_...</td>\n",
       "      <td>0981 142 365</td>\n",
       "      <td>NaN</td>\n",
       "      <td>2022-11-29</td>\n",
       "      <td>25142</td>\n",
       "      <td>NaN</td>\n",
       "    </tr>\n",
       "    <tr>\n",
       "      <th>25143</th>\n",
       "      <td>https://www.google.com.tw/maps/place/%E6%95%B2...</td>\n",
       "      <td>敲碗健康輕食餐盒</td>\n",
       "      <td>4.4</td>\n",
       "      <td>餐廳</td>\n",
       "      <td>54.0</td>\n",
       "      <td>NaN</td>\n",
       "      <td>100台北市中正區寧波西街57號</td>\n",
       "      <td>Plus Code: 2GJ8+7X 中正區 台北市</td>\n",
       "      <td>1</td>\n",
       "      <td>0</td>\n",
       "      <td>1</td>\n",
       "      <td>1</td>\n",
       "      <td>星期二、11:00 到 14:00、17:00 到 19:30; 星期三、11:00 到 1...</td>\n",
       "      <td>https://www.facebook.com/%E6%95%B2%E7%A2%97%E5...</td>\n",
       "      <td>02 2396 5288</td>\n",
       "      <td>NaN</td>\n",
       "      <td>2022-11-29</td>\n",
       "      <td>25143</td>\n",
       "      <td>NaN</td>\n",
       "    </tr>\n",
       "    <tr>\n",
       "      <th>25144</th>\n",
       "      <td>https://www.google.com.tw/maps/place/%E9%87%91...</td>\n",
       "      <td>金仙快餐便當、金牛王創意料理</td>\n",
       "      <td>4.2</td>\n",
       "      <td>餐廳</td>\n",
       "      <td>64.0</td>\n",
       "      <td>NaN</td>\n",
       "      <td>100055台北市中正區寧波西街74號</td>\n",
       "      <td>Plus Code: 2GJ8+3P 中正區 台北市</td>\n",
       "      <td>1</td>\n",
       "      <td>0</td>\n",
       "      <td>1</td>\n",
       "      <td>1</td>\n",
       "      <td>星期二、10:45 到 14:00、16:00 到 19:30; 星期三、10:45 到 1...</td>\n",
       "      <td>NaN</td>\n",
       "      <td>02 2321 3787</td>\n",
       "      <td>NaN</td>\n",
       "      <td>2022-11-29</td>\n",
       "      <td>25144</td>\n",
       "      <td>NaN</td>\n",
       "    </tr>\n",
       "  </tbody>\n",
       "</table>\n",
       "<p>25145 rows × 19 columns</p>\n",
       "</div>"
      ],
      "text/plain": [
       "                                              google_url         place_name  \\\n",
       "0      https://www.google.com.tw/maps/place/%E9%BB%91...               黑曜麵屋   \n",
       "1      https://www.google.com.tw/maps/place/%E6%A8%82...             樂山窄巷拉麵   \n",
       "2      https://www.google.com.tw/maps/place/%E6%97%A5...              日本拉麵屋   \n",
       "3      https://www.google.com.tw/maps/place/%E8%8D%B7...  荷麵亭Hasumentei 北投店   \n",
       "4      https://www.google.com.tw/maps/place/%E3%82%89...      らあめん花月嵐 北投石牌店   \n",
       "...                                                  ...                ...   \n",
       "25140  https://www.google.com.tw/maps/place/%E7%87%83...         燃•食健康餐-寧波店   \n",
       "25141  https://www.google.com.tw/maps/place/%E5%82%BB...             傻瓜乾麵魚丸   \n",
       "25142  https://www.google.com.tw/maps/place/%E4%B8%BB...               主耀廚房   \n",
       "25143  https://www.google.com.tw/maps/place/%E6%95%B2...           敲碗健康輕食餐盒   \n",
       "25144  https://www.google.com.tw/maps/place/%E9%87%91...     金仙快餐便當、金牛王創意料理   \n",
       "\n",
       "       total_rating place_category  total_reviews cost               address  \\\n",
       "0               4.1            拉麵店          379.0    $    112台北市北投區尊賢街206巷2號   \n",
       "1               4.1            拉麵店         1681.0   $$       112台北市北投區大同街27號   \n",
       "2               4.0            拉麵店          310.0    $      112台北市北投區中和街303號   \n",
       "3               4.4            拉麵店          245.0  NaN       112台北市北投區育仁路45號   \n",
       "4               3.3            拉麵店          328.0   $$    112台北市北投區石牌路二段122號   \n",
       "...             ...            ...            ...  ...                   ...   \n",
       "25140           4.8             餐廳          153.0  NaN    10034台北市中正區寧波西街52號   \n",
       "25141           4.0             麵店          322.0    $       100台北市中正區牯嶺街48號   \n",
       "25142           5.0             餐廳           11.0  NaN     100台北市中正區汀州路三段15號   \n",
       "25143           4.4             餐廳           54.0  NaN      100台北市中正區寧波西街57號   \n",
       "25144           4.2             餐廳           64.0  NaN   100055台北市中正區寧波西街74號   \n",
       "\n",
       "                         district  eat_in  to_go_1  to_go_2  delivery  \\\n",
       "0      Plus Code: 4G85+47 北投區 台北市       1        1        0         1   \n",
       "1      Plus Code: 4FMX+5J 北投區 台北市       1        1        0         0   \n",
       "2      Plus Code: 4FRX+7X 北投區 台北市       1        1        0         0   \n",
       "3      Plus Code: 4FMX+95 北投區 台北市       1        1        0         0   \n",
       "4      Plus Code: 4G98+4W 北投區 台北市       1        0        1         1   \n",
       "...                           ...     ...      ...      ...       ...   \n",
       "25140  Plus Code: 2GJ9+74 中正區 台北市       1        1        0         1   \n",
       "25141  Plus Code: 2GH8+MQ 中正區 台北市       1        1        0         1   \n",
       "25142  Plus Code: 2GCG+3G 中正區 台北市       1        0        1         0   \n",
       "25143  Plus Code: 2GJ8+7X 中正區 台北市       1        0        1         1   \n",
       "25144  Plus Code: 2GJ8+3P 中正區 台北市       1        0        1         1   \n",
       "\n",
       "                                           opening_hours  \\\n",
       "0      星期二、11:00 到 21:00; 星期三、11:00 到 21:00; 星期四、11:0...   \n",
       "1      星期二、11:00 到 14:30、17:00 到 20:30; 星期三、11:00 到 1...   \n",
       "2      星期二、11:30 到 14:00、17:00 到 21:00; 星期三、11:30 到 1...   \n",
       "3      星期二、11:40 到 14:30、17:10 到 20:30; 星期三、11:40 到 1...   \n",
       "4      星期二、11:00 到 22:00; 星期三、11:00 到 22:00; 星期四、11:0...   \n",
       "...                                                  ...   \n",
       "25140  星期二、11:00 到 13:30、17:00 到 19:30; 星期三、11:00 到 1...   \n",
       "25141  星期二、06:30 到 18:30; 星期三、06:30 到 18:30; 星期四、06:3...   \n",
       "25142                                                NaN   \n",
       "25143  星期二、11:00 到 14:00、17:00 到 19:30; 星期三、11:00 到 1...   \n",
       "25144  星期二、10:45 到 14:00、16:00 到 19:30; 星期三、10:45 到 1...   \n",
       "\n",
       "                                                 website          phone  \\\n",
       "0                https://www.facebook.com/Obsidianhouse/   0979 047 907   \n",
       "1                   https://www.facebook.com/rakuzan428/   02 2892 6265   \n",
       "2            http://keeat.pixnet.net/blog/post/443310128   02 2893 4585   \n",
       "3                    https://www.facebook.com/HASUMENTEI   02 2898 2565   \n",
       "4                            https://www.kagetsu.com.tw/   02 2822 0228   \n",
       "...                                                  ...            ...   \n",
       "25140                             https://lin.ee/rdm72GE   02 2337 0332   \n",
       "25141                                                NaN   02 2396 8779   \n",
       "25142  https://restaurant-1111195.business.site/?utm_...   0981 142 365   \n",
       "25143  https://www.facebook.com/%E6%95%B2%E7%A2%97%E5...   02 2396 5288   \n",
       "25144                                                NaN   02 2321 3787   \n",
       "\n",
       "       close place_acquisition_date  file_name_1 file_name_2  \n",
       "0        NaN             2022-11-22            0      0_黑曜麵屋  \n",
       "1        NaN             2022-11-22            1      1_樂山窄巷  \n",
       "2        NaN             2022-11-22            2      2_日本拉麵  \n",
       "3        NaN             2022-11-22            3      3_荷麵亭H  \n",
       "4        NaN             2022-11-22            4      4_らあめん  \n",
       "...      ...                    ...          ...         ...  \n",
       "25140    NaN             2022-11-29        25140         NaN  \n",
       "25141    NaN             2022-11-29        25141         NaN  \n",
       "25142    NaN             2022-11-29        25142         NaN  \n",
       "25143    NaN             2022-11-29        25143         NaN  \n",
       "25144    NaN             2022-11-29        25144         NaN  \n",
       "\n",
       "[25145 rows x 19 columns]"
      ]
     },
     "execution_count": 79,
     "metadata": {},
     "output_type": "execute_result"
    }
   ],
   "source": [
    "final3"
   ]
  },
  {
   "cell_type": "code",
   "execution_count": 80,
   "id": "b81f13bd",
   "metadata": {},
   "outputs": [],
   "source": [
    "final3.to_csv('place_info_final_3.csv')"
   ]
  }
 ],
 "metadata": {
  "kernelspec": {
   "display_name": "Python 3 (ipykernel)",
   "language": "python",
   "name": "python3"
  },
  "language_info": {
   "codemirror_mode": {
    "name": "ipython",
    "version": 3
   },
   "file_extension": ".py",
   "mimetype": "text/x-python",
   "name": "python",
   "nbconvert_exporter": "python",
   "pygments_lexer": "ipython3",
   "version": "3.9.12"
  }
 },
 "nbformat": 4,
 "nbformat_minor": 5
}
