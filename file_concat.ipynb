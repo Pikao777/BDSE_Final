{
 "cells": [
  {
   "cell_type": "code",
   "execution_count": 1,
   "id": "a409c084",
   "metadata": {},
   "outputs": [],
   "source": [
    "import pandas as pd"
   ]
  },
  {
   "cell_type": "code",
   "execution_count": 2,
   "id": "5cf8c18e",
   "metadata": {},
   "outputs": [],
   "source": [
    "df1 = pd.read_csv('cool.csv')\n",
    "df1 = df1[['latitude', 'longitude']]\n",
    "df1['type'] = '餐廳'"
   ]
  },
  {
   "cell_type": "code",
   "execution_count": 13,
   "id": "2829cffd",
   "metadata": {},
   "outputs": [],
   "source": [
    "df2 = pd.read_csv('a_cool.csv')\n",
    "df2 = df2[['latitude', 'longitude']]\n",
    "df2['type'] = '景點'"
   ]
  },
  {
   "cell_type": "code",
   "execution_count": 14,
   "id": "2498714a",
   "metadata": {},
   "outputs": [],
   "source": [
    "df3 = pd.concat([df1,df2])"
   ]
  },
  {
   "cell_type": "code",
   "execution_count": 16,
   "id": "7109cca3",
   "metadata": {},
   "outputs": [],
   "source": [
    "df3.to_csv('cool_concat.csv')"
   ]
  }
 ],
 "metadata": {
  "kernelspec": {
   "display_name": "Python 3 (ipykernel)",
   "language": "python",
   "name": "python3"
  },
  "language_info": {
   "codemirror_mode": {
    "name": "ipython",
    "version": 3
   },
   "file_extension": ".py",
   "mimetype": "text/x-python",
   "name": "python",
   "nbconvert_exporter": "python",
   "pygments_lexer": "ipython3",
   "version": "3.9.12"
  }
 },
 "nbformat": 4,
 "nbformat_minor": 5
}
