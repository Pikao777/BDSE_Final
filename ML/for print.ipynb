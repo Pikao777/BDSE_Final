{
 "cells": [
  {
   "cell_type": "markdown",
   "id": "b1ebd7c9",
   "metadata": {},
   "source": [
    "## 混淆"
   ]
  },
  {
   "cell_type": "code",
   "execution_count": 20,
   "id": "be8f85a3",
   "metadata": {},
   "outputs": [],
   "source": [
    "confusion_matrix = [[253, 60, 13, 0, 0],\n",
    "          [47, 213, 42, 0, 0],\n",
    "          [0, 34, 207, 35, 0],\n",
    "          [0, 0, 41, 220, 53],\n",
    "          [0, 0, 0, 51, 231]]"
   ]
  },
  {
   "cell_type": "code",
   "execution_count": 26,
   "id": "1c8f98d3",
   "metadata": {},
   "outputs": [
    {
     "name": "stdout",
     "output_type": "stream",
     "text": [
      "[[253, 60, 13, 0, 0], [47, 213, 42, 0, 0], [0, 34, 207, 35, 0], [0, 0, 41, 220, 53], [0, 0, 0, 51, 231]]\n"
     ]
    }
   ],
   "source": [
    "print(confusion_matrix)"
   ]
  },
  {
   "cell_type": "code",
   "execution_count": 45,
   "id": "5348a2bc",
   "metadata": {},
   "outputs": [
    {
     "name": "stderr",
     "output_type": "stream",
     "text": [
      "C:\\Users\\jimmy\\AppData\\Local\\Temp\\ipykernel_16840\\14386674.py:13: UserWarning: FixedFormatter should only be used together with FixedLocator\n",
      "  ax.set_xticklabels([1, 2, 3, 4, 5])\n",
      "C:\\Users\\jimmy\\AppData\\Local\\Temp\\ipykernel_16840\\14386674.py:14: UserWarning: FixedFormatter should only be used together with FixedLocator\n",
      "  ax.set_yticklabels([1, 2, 3, 4, 5])\n"
     ]
    },
    {
     "data": {
      "image/png": "[encoded data removed]",
      "text/plain": [
       "<Figure size 640x480 with 2 Axes>"
      ]
     },
     "metadata": {},
     "output_type": "display_data"
    }
   ],
   "source": [
    "import matplotlib.pyplot as plt\n",
    "import matplotlib.ticker as ticker\n",
    "\n",
    "\n",
    "confusion_matrix = [[253, 53, 8, 0, 0],\n",
    "                    [47, 223, 40, 0, 0],\n",
    "                    [0, 27, 212, 26, 0],\n",
    "                    [0, 0, 39, 235, 53],\n",
    "                    [0, 0, 0, 43, 241]]\n",
    "\n",
    "fig, ax = plt.subplots()\n",
    "im = ax.matshow(confusion_matrix, cmap='YlOrRd')\n",
    "ax.set_xticklabels([1, 2, 3, 4, 5])\n",
    "ax.set_yticklabels([1, 2, 3, 4, 5])\n",
    "ax.set_title('Confusion Matrix')\n",
    "ax.set_xlabel('Predicted')\n",
    "ax.set_ylabel('True')\n",
    "ax.set_xticks([0, 1, 2, 3, 4])\n",
    "ax.set_yticks([0, 1, 2, 3, 4])\n",
    "# Add colorbar\n",
    "cbar = ax.figure.colorbar(im, ax=ax)\n",
    "for i in range(5):\n",
    "    for j in range(5):\n",
    "        text = ax.text(j, i, confusion_matrix[i][j], ha='center', va='center', color='black')\n",
    "# Show plot\n",
    "plt.show()"
   ]
  },
  {
   "cell_type": "code",
   "execution_count": 46,
   "id": "b0bb63bb",
   "metadata": {},
   "outputs": [
    {
     "name": "stdout",
     "output_type": "stream",
     "text": [
      "Precision: 0.78\n"
     ]
    }
   ],
   "source": [
    "from sklearn.metrics import precision_score, recall_score, f1_score\n",
    "\n",
    "# Calculate the precision\n",
    "precision = precision_score(true_labels, predicted_labels, average='micro')\n",
    "\n",
    "# Display the evaluation metrics\n",
    "print(f\"Precision: {precision:.2f}\")"
   ]
  },
  {
   "cell_type": "code",
   "execution_count": 21,
   "id": "182585fc",
   "metadata": {},
   "outputs": [
    {
     "ename": "NameError",
     "evalue": "name 'true_labels' is not defined",
     "output_type": "error",
     "traceback": [
      "\u001b[1;31m---------------------------------------------------------------------------\u001b[0m",
      "\u001b[1;31mNameError\u001b[0m                                 Traceback (most recent call last)",
      "\u001b[1;32m~\\AppData\\Local\\Temp\\ipykernel_16840\\3506464739.py\u001b[0m in \u001b[0;36m<module>\u001b[1;34m\u001b[0m\n\u001b[0;32m      2\u001b[0m \u001b[1;33m\u001b[0m\u001b[0m\n\u001b[0;32m      3\u001b[0m \u001b[1;31m# Calculate the precision\u001b[0m\u001b[1;33m\u001b[0m\u001b[1;33m\u001b[0m\u001b[0m\n\u001b[1;32m----> 4\u001b[1;33m \u001b[0mprecision\u001b[0m \u001b[1;33m=\u001b[0m \u001b[0mprecision_score\u001b[0m\u001b[1;33m(\u001b[0m\u001b[0mtrue_labels\u001b[0m\u001b[1;33m,\u001b[0m \u001b[0mpredicted_labels\u001b[0m\u001b[1;33m,\u001b[0m \u001b[0maverage\u001b[0m\u001b[1;33m=\u001b[0m\u001b[1;34m'micro'\u001b[0m\u001b[1;33m)\u001b[0m\u001b[1;33m\u001b[0m\u001b[1;33m\u001b[0m\u001b[0m\n\u001b[0m\u001b[0;32m      5\u001b[0m \u001b[1;33m\u001b[0m\u001b[0m\n\u001b[0;32m      6\u001b[0m \u001b[1;31m# Calculate the recall\u001b[0m\u001b[1;33m\u001b[0m\u001b[1;33m\u001b[0m\u001b[0m\n",
      "\u001b[1;31mNameError\u001b[0m: name 'true_labels' is not defined"
     ]
    }
   ],
   "source": [
    "from sklearn.metrics import precision_score, recall_score, f1_score\n",
    "\n",
    "# Calculate the precision\n",
    "precision = precision_score(true_labels, predicted_labels, average='micro')\n",
    "\n",
    "# Calculate the recall\n",
    "recall = recall_score(true_labels, predicted_labels, average='micro')\n",
    "\n",
    "# Calculate the F1 score\n",
    "f1 = f1_score(true_labels, predicted_labels, average='micro')\n",
    "\n",
    "# Display the evaluation metrics\n",
    "print(f\"Precision: {precision:.2f}\")\n",
    "print(f\"Recall: {recall:.2f}\")\n",
    "print(f\"F1 Score: {f1:.2f}\")"
   ]
  },
  {
   "cell_type": "code",
   "execution_count": null,
   "id": "4c5a3f87",
   "metadata": {},
   "outputs": [],
   "source": []
  }
 ],
 "metadata": {
  "kernelspec": {
   "display_name": "Python 3 (ipykernel)",
   "language": "python",
   "name": "python3"
  },
  "language_info": {
   "codemirror_mode": {
    "name": "ipython",
    "version": 3
   },
   "file_extension": ".py",
   "mimetype": "text/x-python",
   "name": "python",
   "nbconvert_exporter": "python",
   "pygments_lexer": "ipython3",
   "version": "3.9.13"
  }
 },
 "nbformat": 4,
 "nbformat_minor": 5
}
