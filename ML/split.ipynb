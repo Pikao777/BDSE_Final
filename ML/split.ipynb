{
 "cells": [
  {
   "cell_type": "code",
   "execution_count": 15,
   "id": "b17ab4b8",
   "metadata": {},
   "outputs": [],
   "source": [
    "import pandas as pd "
   ]
  },
  {
   "cell_type": "code",
   "execution_count": 16,
   "id": "948eb89b",
   "metadata": {},
   "outputs": [],
   "source": [
    "df = pd.read_csv('review_label_restaurant.csv')\n",
    "df = df[['verse_text','label']]"
   ]
  },
  {
   "cell_type": "code",
   "execution_count": 17,
   "id": "09a15f33",
   "metadata": {},
   "outputs": [
    {
     "data": {
      "text/plain": [
       "4    386\n",
       "3    324\n",
       "2    302\n",
       "5    252\n",
       "1    236\n",
       "Name: label, dtype: int64"
      ]
     },
     "execution_count": 17,
     "metadata": {},
     "output_type": "execute_result"
    }
   ],
   "source": [
    "df['label'].value_counts()"
   ]
  },
  {
   "cell_type": "code",
   "execution_count": 18,
   "id": "be4e3fa6",
   "metadata": {},
   "outputs": [
    {
     "data": {
      "text/html": [
       "<div>\n",
       "<style scoped>\n",
       "    .dataframe tbody tr th:only-of-type {\n",
       "        vertical-align: middle;\n",
       "    }\n",
       "\n",
       "    .dataframe tbody tr th {\n",
       "        vertical-align: top;\n",
       "    }\n",
       "\n",
       "    .dataframe thead th {\n",
       "        text-align: right;\n",
       "    }\n",
       "</style>\n",
       "<table border=\"1\" class=\"dataframe\">\n",
       "  <thead>\n",
       "    <tr style=\"text-align: right;\">\n",
       "      <th></th>\n",
       "      <th>verse_text</th>\n",
       "      <th>label</th>\n",
       "    </tr>\n",
       "  </thead>\n",
       "  <tbody>\n",
       "    <tr>\n",
       "      <th>0</th>\n",
       "      <td>空調位置不好,較悶熱。假日人多時，上菜速度緩慢,一頓飯超過2小時。</td>\n",
       "      <td>2</td>\n",
       "    </tr>\n",
       "    <tr>\n",
       "      <th>1</th>\n",
       "      <td>中午約莫一點在店內待了至少十分鐘以上，櫃台完全沒人，也稍微喊了一下也無人回應，請問店是有在開...</td>\n",
       "      <td>1</td>\n",
       "    </tr>\n",
       "    <tr>\n",
       "      <th>2</th>\n",
       "      <td>等了半小時說單子不見，還完全不記得我們點什麼，完全沒開始做餐，要我們重劃單，但錢都收了，竟然...</td>\n",
       "      <td>1</td>\n",
       "    </tr>\n",
       "    <tr>\n",
       "      <th>3</th>\n",
       "      <td>今天聽到一位附近工地客人跟店家要隔熱套，店家說沒有喔！ 隨客人離開後，店家居然說，手繭這麼厚...</td>\n",
       "      <td>1</td>\n",
       "    </tr>\n",
       "    <tr>\n",
       "      <th>4</th>\n",
       "      <td>22/05/13:   不好意思，這裡的徒手包含沒有戴手套喔，若是有戴手套我也不會特地來留言...</td>\n",
       "      <td>2</td>\n",
       "    </tr>\n",
       "    <tr>\n",
       "      <th>...</th>\n",
       "      <td>...</td>\n",
       "      <td>...</td>\n",
       "    </tr>\n",
       "    <tr>\n",
       "      <th>1495</th>\n",
       "      <td>菜色很多，又便宜，還有免費的甜湯跟湯品，在這個精華地段，有這樣CP值高的自助餐，真是附近居民...</td>\n",
       "      <td>5</td>\n",
       "    </tr>\n",
       "    <tr>\n",
       "      <th>1496</th>\n",
       "      <td>目前好像只有這裡的豆漿，喝得出是自己用鐵鍋煮的那種自然焦味。      很多早餐店的豆漿是用...</td>\n",
       "      <td>5</td>\n",
       "    </tr>\n",
       "    <tr>\n",
       "      <th>1497</th>\n",
       "      <td>好吃！   肉好大塊   麵好Q彈   吃得很飽   這CP值頗高的</td>\n",
       "      <td>5</td>\n",
       "    </tr>\n",
       "    <tr>\n",
       "      <th>1498</th>\n",
       "      <td>第一次吃到這種口感的蛋餅，很好吃也不用等很久   外皮薄脆香，有點像在吃蘇打餅乾的感覺   ...</td>\n",
       "      <td>5</td>\n",
       "    </tr>\n",
       "    <tr>\n",
       "      <th>1499</th>\n",
       "      <td>超讚   老闆再次新發明   千層蛋佐暖心醬油糕</td>\n",
       "      <td>5</td>\n",
       "    </tr>\n",
       "  </tbody>\n",
       "</table>\n",
       "<p>1500 rows × 2 columns</p>\n",
       "</div>"
      ],
      "text/plain": [
       "                                             verse_text  label\n",
       "0                   空調位置不好,較悶熱。假日人多時，上菜速度緩慢,一頓飯超過2小時。        2\n",
       "1     中午約莫一點在店內待了至少十分鐘以上，櫃台完全沒人，也稍微喊了一下也無人回應，請問店是有在開...      1\n",
       "2     等了半小時說單子不見，還完全不記得我們點什麼，完全沒開始做餐，要我們重劃單，但錢都收了，竟然...      1\n",
       "3     今天聽到一位附近工地客人跟店家要隔熱套，店家說沒有喔！ 隨客人離開後，店家居然說，手繭這麼厚...      1\n",
       "4     22/05/13:   不好意思，這裡的徒手包含沒有戴手套喔，若是有戴手套我也不會特地來留言...      2\n",
       "...                                                 ...    ...\n",
       "1495  菜色很多，又便宜，還有免費的甜湯跟湯品，在這個精華地段，有這樣CP值高的自助餐，真是附近居民...      5\n",
       "1496  目前好像只有這裡的豆漿，喝得出是自己用鐵鍋煮的那種自然焦味。      很多早餐店的豆漿是用...      5\n",
       "1497                 好吃！   肉好大塊   麵好Q彈   吃得很飽   這CP值頗高的      5\n",
       "1498  第一次吃到這種口感的蛋餅，很好吃也不用等很久   外皮薄脆香，有點像在吃蘇打餅乾的感覺   ...      5\n",
       "1499                           超讚   老闆再次新發明   千層蛋佐暖心醬油糕      5\n",
       "\n",
       "[1500 rows x 2 columns]"
      ]
     },
     "execution_count": 18,
     "metadata": {},
     "output_type": "execute_result"
    }
   ],
   "source": [
    "df"
   ]
  },
  {
   "cell_type": "code",
   "execution_count": 19,
   "id": "441b3a18",
   "metadata": {},
   "outputs": [],
   "source": [
    "df = df.sample(frac=1).reset_index(drop=True)"
   ]
  },
  {
   "cell_type": "code",
   "execution_count": 23,
   "id": "8f999c24",
   "metadata": {},
   "outputs": [
    {
     "data": {
      "text/plain": [
       "4    263\n",
       "3    229\n",
       "2    207\n",
       "1    179\n",
       "5    173\n",
       "Name: label, dtype: int64"
      ]
     },
     "execution_count": 23,
     "metadata": {},
     "output_type": "execute_result"
    }
   ],
   "source": [
    "df[:1051]['label'].value_counts()"
   ]
  },
  {
   "cell_type": "code",
   "execution_count": 26,
   "id": "b57f36f5",
   "metadata": {},
   "outputs": [],
   "source": [
    "df[1051:1276].to_csv('test.csv')"
   ]
  },
  {
   "cell_type": "code",
   "execution_count": 27,
   "id": "9ff717c8",
   "metadata": {},
   "outputs": [],
   "source": [
    "df[:1051].to_csv('train.csv')"
   ]
  },
  {
   "cell_type": "code",
   "execution_count": 28,
   "id": "8af71734",
   "metadata": {},
   "outputs": [],
   "source": [
    "df[1276:].to_csv('validation.csv')"
   ]
  }
 ],
 "metadata": {
  "kernelspec": {
   "display_name": "Python 3 (ipykernel)",
   "language": "python",
   "name": "python3"
  },
  "language_info": {
   "codemirror_mode": {
    "name": "ipython",
    "version": 3
   },
   "file_extension": ".py",
   "mimetype": "text/x-python",
   "name": "python",
   "nbconvert_exporter": "python",
   "pygments_lexer": "ipython3",
   "version": "3.9.12"
  }
 },
 "nbformat": 4,
 "nbformat_minor": 5
}
