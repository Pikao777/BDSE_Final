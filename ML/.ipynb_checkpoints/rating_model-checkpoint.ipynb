{
 "cells": [
  {
   "cell_type": "markdown",
   "id": "d5756290",
   "metadata": {},
   "source": [
    "pip install transformers"
   ]
  },
  {
   "cell_type": "code",
   "execution_count": 10,
   "id": "c29c430d",
   "metadata": {
    "scrolled": true
   },
   "outputs": [
    {
     "name": "stderr",
     "output_type": "stream",
     "text": [
      "Some weights of the PyTorch model were not used when initializing the TF 2.0 model TFBertModel: ['classifier.weight', 'classifier.bias', 'bert.embeddings.position_ids']\n",
      "- This IS expected if you are initializing TFBertModel from a PyTorch model trained on another task or with another architecture (e.g. initializing a TFBertForSequenceClassification model from a BertForPreTraining model).\n",
      "- This IS NOT expected if you are initializing TFBertModel from a PyTorch model that you expect to be exactly identical (e.g. initializing a TFBertForSequenceClassification model from a BertForSequenceClassification model).\n",
      "All the weights of TFBertModel were initialized from the PyTorch model.\n",
      "If your task is similar to the task the model of the checkpoint was trained on, you can already use TFBertModel for predictions without further training.\n"
     ]
    }
   ],
   "source": [
    "from transformers import TFAutoModel, pipeline\n",
    "model_name = \"final_model_3\"\n",
    "tf_model = TFAutoModel.from_pretrained(model_name, from_pt=True)\n",
    "classifier = pipeline(task= 'sentiment-analysis', model= \"final_model_3\")"
   ]
  },
  {
   "cell_type": "code",
   "execution_count": 49,
   "id": "738708df",
   "metadata": {},
   "outputs": [],
   "source": [
    "import pandas as pd\n",
    "df = pd.read_csv('place_info_final_1217.csv')"
   ]
  },
  {
   "cell_type": "code",
   "execution_count": 66,
   "id": "2ddb81a9",
   "metadata": {},
   "outputs": [],
   "source": [
    "file_list = df.loc[:,'file_name_1'].to_list()"
   ]
  },
  {
   "cell_type": "code",
   "execution_count": 75,
   "id": "12a6cdfc",
   "metadata": {},
   "outputs": [
    {
     "name": "stdout",
     "output_type": "stream",
     "text": [
      "請輸入開始編號:10\n",
      "請輸入結束編號:11\n",
      "開始運行，將從第10筆資料繼續\n"
     ]
    },
    {
     "name": "stderr",
     "output_type": "stream",
     "text": [
      "C:\\Users\\jimmy\\AppData\\Local\\Temp\\ipykernel_19112\\2395170876.py:16: SettingWithCopyWarning: \n",
      "A value is trying to be set on a copy of a slice from a DataFrame.\n",
      "Try using .loc[row_indexer,col_indexer] = value instead\n",
      "\n",
      "See the caveats in the documentation: https://pandas.pydata.org/pandas-docs/stable/user_guide/indexing.html#returning-a-view-versus-a-copy\n",
      "  df_subset.loc[:,'model_rating'] = model_rating\n"
     ]
    },
    {
     "name": "stdout",
     "output_type": "stream",
     "text": [
      "第10筆完成，下次請從第11筆資料開始輸入\n",
      "第11筆完成，下次請從第12筆資料開始輸入\n",
      "執行時間：287.253356 秒\n"
     ]
    },
    {
     "name": "stderr",
     "output_type": "stream",
     "text": [
      "C:\\Users\\jimmy\\AppData\\Local\\Temp\\ipykernel_19112\\2395170876.py:16: SettingWithCopyWarning: \n",
      "A value is trying to be set on a copy of a slice from a DataFrame.\n",
      "Try using .loc[row_indexer,col_indexer] = value instead\n",
      "\n",
      "See the caveats in the documentation: https://pandas.pydata.org/pandas-docs/stable/user_guide/indexing.html#returning-a-view-versus-a-copy\n",
      "  df_subset.loc[:,'model_rating'] = model_rating\n"
     ]
    }
   ],
   "source": [
    "i = int(input('請輸入開始編號:'))\n",
    "j = int(input('請輸入結束編號:'))\n",
    "file_list = df.loc[i:j,'file_name_1'].to_list()\n",
    "print(f'開始運行，將從第{str(i)}筆資料繼續')\n",
    "for file in file_list:\n",
    "    df_review = pd.read_csv(f'review_clean_res_att/{file}.csv')\n",
    "    review_result = classifier(df_review['review_text'].to_list())\n",
    "    ans = []\n",
    "    for d in review_result:\n",
    "        answer = int(d['label'][5])\n",
    "        ans.append(answer)\n",
    "    model_rating = round(sum(ans)/len(ans),1)\n",
    "    df_subset = df.loc[df['file_name_1'] == file]\n",
    "    df_subset.loc[:,'model_rating'] = model_rating\n",
    "    df_subset.to_csv('model_rating.csv', index=False, header=False, mode='a')\n",
    "    print(f'第{i}筆完成，下次請從編號{i+1}開始輸入')\n",
    "    i += 1\n",
    "print('設定的範圍已執行完成')"
   ]
  },
  {
   "cell_type": "code",
   "execution_count": 77,
   "id": "c896e5ed",
   "metadata": {},
   "outputs": [
    {
     "data": {
      "text/html": [
       "<div>\n",
       "<style scoped>\n",
       "    .dataframe tbody tr th:only-of-type {\n",
       "        vertical-align: middle;\n",
       "    }\n",
       "\n",
       "    .dataframe tbody tr th {\n",
       "        vertical-align: top;\n",
       "    }\n",
       "\n",
       "    .dataframe thead th {\n",
       "        text-align: right;\n",
       "    }\n",
       "</style>\n",
       "<table border=\"1\" class=\"dataframe\">\n",
       "  <thead>\n",
       "    <tr style=\"text-align: right;\">\n",
       "      <th></th>\n",
       "      <th>total_rating</th>\n",
       "      <th>model_rating</th>\n",
       "      <th>total_reviews</th>\n",
       "    </tr>\n",
       "  </thead>\n",
       "  <tbody>\n",
       "    <tr>\n",
       "      <th>0</th>\n",
       "      <td>4.1</td>\n",
       "      <td>3.7</td>\n",
       "      <td>379.0</td>\n",
       "    </tr>\n",
       "    <tr>\n",
       "      <th>1</th>\n",
       "      <td>4.1</td>\n",
       "      <td>3.8</td>\n",
       "      <td>1681.0</td>\n",
       "    </tr>\n",
       "    <tr>\n",
       "      <th>2</th>\n",
       "      <td>4.0</td>\n",
       "      <td>3.7</td>\n",
       "      <td>310.0</td>\n",
       "    </tr>\n",
       "    <tr>\n",
       "      <th>3</th>\n",
       "      <td>4.4</td>\n",
       "      <td>4.0</td>\n",
       "      <td>245.0</td>\n",
       "    </tr>\n",
       "    <tr>\n",
       "      <th>4</th>\n",
       "      <td>3.3</td>\n",
       "      <td>2.6</td>\n",
       "      <td>328.0</td>\n",
       "    </tr>\n",
       "    <tr>\n",
       "      <th>5</th>\n",
       "      <td>3.6</td>\n",
       "      <td>3.2</td>\n",
       "      <td>1816.0</td>\n",
       "    </tr>\n",
       "    <tr>\n",
       "      <th>6</th>\n",
       "      <td>3.8</td>\n",
       "      <td>3.2</td>\n",
       "      <td>776.0</td>\n",
       "    </tr>\n",
       "    <tr>\n",
       "      <th>7</th>\n",
       "      <td>4.6</td>\n",
       "      <td>4.1</td>\n",
       "      <td>726.0</td>\n",
       "    </tr>\n",
       "    <tr>\n",
       "      <th>8</th>\n",
       "      <td>4.5</td>\n",
       "      <td>4.2</td>\n",
       "      <td>343.0</td>\n",
       "    </tr>\n",
       "    <tr>\n",
       "      <th>9</th>\n",
       "      <td>4.4</td>\n",
       "      <td>4.0</td>\n",
       "      <td>2208.0</td>\n",
       "    </tr>\n",
       "    <tr>\n",
       "      <th>10</th>\n",
       "      <td>4.0</td>\n",
       "      <td>3.8</td>\n",
       "      <td>3522.0</td>\n",
       "    </tr>\n",
       "    <tr>\n",
       "      <th>11</th>\n",
       "      <td>4.6</td>\n",
       "      <td>4.3</td>\n",
       "      <td>1134.0</td>\n",
       "    </tr>\n",
       "    <tr>\n",
       "      <th>12</th>\n",
       "      <td>4.5</td>\n",
       "      <td>4.4</td>\n",
       "      <td>289.0</td>\n",
       "    </tr>\n",
       "    <tr>\n",
       "      <th>13</th>\n",
       "      <td>3.8</td>\n",
       "      <td>3.4</td>\n",
       "      <td>516.0</td>\n",
       "    </tr>\n",
       "  </tbody>\n",
       "</table>\n",
       "</div>"
      ],
      "text/plain": [
       "    total_rating  model_rating  total_reviews\n",
       "0            4.1           3.7          379.0\n",
       "1            4.1           3.8         1681.0\n",
       "2            4.0           3.7          310.0\n",
       "3            4.4           4.0          245.0\n",
       "4            3.3           2.6          328.0\n",
       "5            3.6           3.2         1816.0\n",
       "6            3.8           3.2          776.0\n",
       "7            4.6           4.1          726.0\n",
       "8            4.5           4.2          343.0\n",
       "9            4.4           4.0         2208.0\n",
       "10           4.0           3.8         3522.0\n",
       "11           4.6           4.3         1134.0\n",
       "12           4.5           4.4          289.0\n",
       "13           3.8           3.4          516.0"
      ]
     },
     "execution_count": 77,
     "metadata": {},
     "output_type": "execute_result"
    }
   ],
   "source": [
    "model_s = pd.read_csv('model_rating.csv')\n",
    "model_s[['total_rating', 'model_rating','total_reviews']]"
   ]
  },
  {
   "cell_type": "code",
   "execution_count": null,
   "id": "b14da68c",
   "metadata": {},
   "outputs": [],
   "source": []
  }
 ],
 "metadata": {
  "kernelspec": {
   "display_name": "st",
   "language": "python",
   "name": "st"
  },
  "language_info": {
   "codemirror_mode": {
    "name": "ipython",
    "version": 3
   },
   "file_extension": ".py",
   "mimetype": "text/x-python",
   "name": "python",
   "nbconvert_exporter": "python",
   "pygments_lexer": "ipython3",
   "version": "3.10.8"
  }
 },
 "nbformat": 4,
 "nbformat_minor": 5
}
