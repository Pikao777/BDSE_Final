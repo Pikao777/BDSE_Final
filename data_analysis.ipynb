{
 "cells": [
  {
   "cell_type": "markdown",
   "id": "9d705398",
   "metadata": {},
   "source": [
    "### 載入套件"
   ]
  },
  {
   "cell_type": "code",
   "execution_count": 1,
   "id": "58fcb8ed",
   "metadata": {},
   "outputs": [],
   "source": [
    "import pandas as pd\n",
    "import numpy as np\n",
    "import matplotlib.pyplot as plt\n",
    "import seaborn as sns\n",
    "\n",
    "%matplotlib inline"
   ]
  },
  {
   "cell_type": "markdown",
   "id": "b011d9dd",
   "metadata": {},
   "source": [
    "### 讀檔"
   ]
  },
  {
   "cell_type": "code",
   "execution_count": 2,
   "id": "061b14d3",
   "metadata": {},
   "outputs": [],
   "source": [
    "df = pd.read_csv('place_info_final_3.csv', index_col=0)\n",
    "df = df.drop(columns='file_name_2')"
   ]
  },
  {
   "cell_type": "markdown",
   "id": "a0feada2",
   "metadata": {},
   "source": [
    "### 查看原始資料欄位及空缺值"
   ]
  },
  {
   "cell_type": "code",
   "execution_count": 3,
   "id": "61763463",
   "metadata": {
    "scrolled": false
   },
   "outputs": [
    {
     "name": "stdout",
     "output_type": "stream",
     "text": [
      "<class 'pandas.core.frame.DataFrame'>\n",
      "Int64Index: 25145 entries, 0 to 25144\n",
      "Data columns (total 18 columns):\n",
      " #   Column                  Non-Null Count  Dtype  \n",
      "---  ------                  --------------  -----  \n",
      " 0   google_url              25145 non-null  object \n",
      " 1   place_name              25145 non-null  object \n",
      " 2   total_rating            25145 non-null  float64\n",
      " 3   place_category          25145 non-null  object \n",
      " 4   total_reviews           25145 non-null  float64\n",
      " 5   cost                    12146 non-null  object \n",
      " 6   address                 25145 non-null  object \n",
      " 7   district                25145 non-null  object \n",
      " 8   eat_in                  25145 non-null  int64  \n",
      " 9   to_go_1                 25145 non-null  int64  \n",
      " 10  to_go_2                 25145 non-null  int64  \n",
      " 11  delivery                25145 non-null  int64  \n",
      " 12  opening_hours           23888 non-null  object \n",
      " 13  website                 16167 non-null  object \n",
      " 14  phone                   23362 non-null  object \n",
      " 15  close                   0 non-null      float64\n",
      " 16  place_acquisition_date  25145 non-null  object \n",
      " 17  file_name_1             25145 non-null  int64  \n",
      "dtypes: float64(3), int64(5), object(10)\n",
      "memory usage: 3.6+ MB\n"
     ]
    }
   ],
   "source": [
    "df.info()"
   ]
  },
  {
   "cell_type": "markdown",
   "id": "8f9e1a96",
   "metadata": {},
   "source": [
    "### 檢查資料是否重複"
   ]
  },
  {
   "cell_type": "code",
   "execution_count": 4,
   "id": "7c679fb3",
   "metadata": {},
   "outputs": [
    {
     "name": "stdout",
     "output_type": "stream",
     "text": [
      "google_url是否重複:  False\n",
      "店名+地址是否重複:  True\n",
      "file_name_1是否重複:  False\n"
     ]
    }
   ],
   "source": [
    "print('google_url是否重複: ',df['google_url'].duplicated().any())\n",
    "print('店名+地址是否重複: ',df[['address', 'place_name']].duplicated().any())\n",
    "print('file_name_1是否重複: ',df['file_name_1'].duplicated().any())"
   ]
  },
  {
   "cell_type": "markdown",
   "id": "3ca68a54",
   "metadata": {},
   "source": [
    "### 刪除(店名+地址)重複"
   ]
  },
  {
   "cell_type": "code",
   "execution_count": 5,
   "id": "54ba2fcf",
   "metadata": {},
   "outputs": [
    {
     "name": "stdout",
     "output_type": "stream",
     "text": [
      "刪除(店名+地址)重複後資料筆數:  25061\n"
     ]
    }
   ],
   "source": [
    "df2 = df.drop_duplicates(subset=['address', 'place_name'])\n",
    "print('刪除(店名+地址)重複後資料筆數: ', df2.shape[0])"
   ]
  },
  {
   "cell_type": "markdown",
   "id": "880f3795",
   "metadata": {},
   "source": [
    "### 刪除缺少營業時間row"
   ]
  },
  {
   "cell_type": "code",
   "execution_count": 6,
   "id": "fda3a9b3",
   "metadata": {},
   "outputs": [
    {
     "name": "stdout",
     "output_type": "stream",
     "text": [
      "刪除(營業時間)缺失後資料筆數:  23805\n"
     ]
    }
   ],
   "source": [
    "df2 = df2[~df2['opening_hours'].isna()]\n",
    "print('刪除(營業時間)缺失後資料筆數: ', df2.shape[0])"
   ]
  },
  {
   "cell_type": "markdown",
   "id": "c017c6a5",
   "metadata": {},
   "source": [
    "### 篩選可內用"
   ]
  },
  {
   "cell_type": "code",
   "execution_count": 7,
   "id": "5a653c57",
   "metadata": {},
   "outputs": [
    {
     "name": "stdout",
     "output_type": "stream",
     "text": [
      "(可內用)資料筆數:  20582\n"
     ]
    }
   ],
   "source": [
    "df2 = df2[df2['eat_in'] == 1]\n",
    "print('(可內用)資料筆數: ', df2.shape[0])"
   ]
  },
  {
   "cell_type": "markdown",
   "id": "f5fea75e",
   "metadata": {},
   "source": [
    "### 刪除評論數小於50"
   ]
  },
  {
   "cell_type": "code",
   "execution_count": 8,
   "id": "c9776b1c",
   "metadata": {
    "scrolled": true
   },
   "outputs": [
    {
     "name": "stdout",
     "output_type": "stream",
     "text": [
      "刪除(評論數 < 50)後資料筆數:  16583\n"
     ]
    }
   ],
   "source": [
    "df2 = df2[df2['total_reviews'] > 50]\n",
    "print('刪除(評論數 < 50)後資料筆數: ', df2.shape[0])"
   ]
  },
  {
   "cell_type": "markdown",
   "id": "2a6eadc5",
   "metadata": {},
   "source": [
    "### 新增Category_new欄位，mapping according to type_all.csv"
   ]
  },
  {
   "cell_type": "code",
   "execution_count": 9,
   "id": "6bdf53f5",
   "metadata": {},
   "outputs": [
    {
     "name": "stderr",
     "output_type": "stream",
     "text": [
      "<ipython-input-9-a94f70c22b36>:1: FutureWarning: The squeeze argument has been deprecated and will be removed in a future version. Append .squeeze(\"columns\") to the call to squeeze.\n",
      "\n",
      "\n",
      "  type_all = pd.read_csv('type_all.csv', index_col=0, squeeze=True).to_dict()\n"
     ]
    }
   ],
   "source": [
    "type_all = pd.read_csv('type_all.csv', index_col=0, squeeze=True).to_dict()\n",
    "df2['category_new'] = df2['file_name_1'].map(type_all)"
   ]
  },
  {
   "cell_type": "markdown",
   "id": "bb1c543f",
   "metadata": {},
   "source": [
    "### 刪除篩選類別後需要剔除的項目 category_new = Nan"
   ]
  },
  {
   "cell_type": "code",
   "execution_count": 10,
   "id": "abb75a6e",
   "metadata": {},
   "outputs": [
    {
     "name": "stdout",
     "output_type": "stream",
     "text": [
      "刪除(需剔除項目)後資料筆數:  15085\n"
     ]
    }
   ],
   "source": [
    "df2 = df2.dropna(subset='category_new')\n",
    "print('刪除(需剔除項目)後資料筆數: ', df2.shape[0])"
   ]
  },
  {
   "cell_type": "markdown",
   "id": "80e0bff1",
   "metadata": {},
   "source": [
    "### 新增 district_new 分類行政區"
   ]
  },
  {
   "cell_type": "code",
   "execution_count": 11,
   "id": "7602029b",
   "metadata": {},
   "outputs": [],
   "source": [
    "df2[\"district_new\"] = df2[\"district\"].str.split(\" \").str.get(3)\n",
    "df2 = df2.drop(df2[df2['district_new'] == '汐止區'].index)"
   ]
  },
  {
   "cell_type": "markdown",
   "id": "b75243b0",
   "metadata": {},
   "source": [
    "### 新增緯經度 location 欄位"
   ]
  },
  {
   "cell_type": "code",
   "execution_count": 12,
   "id": "f170b5aa",
   "metadata": {},
   "outputs": [],
   "source": [
    "df2['location'] = df2['google_url'].str.findall('\\d?\\d\\d\\.\\d+')"
   ]
  },
  {
   "cell_type": "markdown",
   "id": "d1853b7d",
   "metadata": {},
   "source": [
    "### 營業時間欄位新增"
   ]
  },
  {
   "cell_type": "code",
   "execution_count": 13,
   "id": "7c7bb97b",
   "metadata": {},
   "outputs": [],
   "source": [
    "def open_time(weekday, str_weekday):\n",
    "    for i in df2[str_weekday]:\n",
    "        listt = []\n",
    "        if len(i) == 0:\n",
    "            listt = [0,0,0,0,0,0,0,0,0,0,0,0,0,0,0,0,0,0,0,0,0,0,0,0]\n",
    "\n",
    "        elif len(i) == 1:\n",
    "            listt = [1,1,1,1,1,1,1,1,1,1,1,1,1,1,1,1,1,1,1,1,1,1,1,1]\n",
    "\n",
    "        if len(i) > 1:\n",
    "            # 晚上營業時間沒有跨日\n",
    "            if int(i[-1]) - int(i[0]) > 0:\n",
    "                listt = [0,0,0,0,0,0,0,0,0,0,0,0,0,0,0,0,0,0,0,0,0,0,0,0]\n",
    "                if len(i) >= 2:\n",
    "                    listt[int(i[0]):int(i[1])] = np.ones(abs(int(i[1])-int(i[0])))\n",
    "\n",
    "                    if len(i) >= 4:\n",
    "                        listt[int(i[2]):int(i[3])] = np.ones(abs(int(i[3])-int(i[2])))\n",
    "\n",
    "                        if len(i) >= 6:\n",
    "                            listt[int(i[4]):int(i[5])] = np.ones(int(i[5])-int(i[4]))\n",
    "\n",
    "                            if len(i) >= 8:\n",
    "                                listt[int(i[6]):int(i[7])] = np.ones(int(i[7])-int(i[6]))\n",
    "\n",
    "            # 晚上營業時間跨日    \n",
    "            if int(i[-1]) - int(i[0]) < 0:\n",
    "                listt = [1,1,1,1,1,1,1,1,1,1,1,1,1,1,1,1,1,1,1,1,1,1,1,1]\n",
    "\n",
    "                if len(i) >= 2:\n",
    "                    listt[int(i[-1]):int(i[0])] = np.zeros(abs(int(i[-1])-int(i[0])))\n",
    "\n",
    "                    if len(i) >= 4:\n",
    "                        listt[int(i[1]):int(i[2])] = np.zeros(abs(int(i[2])-int(i[2])))\n",
    "\n",
    "                        if len(i) >= 6:\n",
    "                            listt[int(i[3]):int(i[4])] = np.zeros(abs(int(i[4])-int(i[3])))\n",
    "\n",
    "                            if len(i) >= 8:\n",
    "                                listt[int(i[5]):int(i[6])] = np.zeros(abs(int(i[6])-int(i[5])))\n",
    "\n",
    "        weekday.append(listt)"
   ]
  },
  {
   "cell_type": "code",
   "execution_count": 14,
   "id": "60a66f57",
   "metadata": {},
   "outputs": [
    {
     "name": "stderr",
     "output_type": "stream",
     "text": [
      "<ipython-input-14-62ddfd185619>:32: FutureWarning: The default value of regex will change from True to False in a future version.\n",
      "  df2[j] = df2[j].str.replace(':\\d\\d','')\n"
     ]
    }
   ],
   "source": [
    "df2['week_list'] = df2['opening_hours'].str.replace(' ','')\n",
    "df2['week_list'] = df2['week_list'].str.split(';')\n",
    "blank = []\n",
    "\n",
    "# 排序 一三二五六四日\n",
    "for i in df2['week_list']:\n",
    "    blank.append(sorted(i))\n",
    "\n",
    "df2['week_list'] = blank\n",
    "\n",
    "df_expanded_v1 = df2[\"week_list\"].apply(pd.Series)\n",
    "\n",
    "monday = []\n",
    "tuesday = []\n",
    "wednesday = []\n",
    "thursday = []\n",
    "friday = []\n",
    "saturday = []\n",
    "sunday = []\n",
    "weeklist = [[monday, 'monday'], [tuesday,'tuesday'], [wednesday,'wednesday'], [thursday,'thursday'],[friday,'friday'],[saturday, 'saturday'],[sunday,'sunday']]\n",
    "\n",
    "df2['monday'] = df_expanded_v1[0]\n",
    "df2['tuesday'] = df_expanded_v1[2]\n",
    "df2['wednesday'] = df_expanded_v1[1]\n",
    "df2['thursday'] = df_expanded_v1[5]\n",
    "df2['friday'] = df_expanded_v1[3]\n",
    "df2['saturday'] = df_expanded_v1[4]\n",
    "df2['sunday'] = df_expanded_v1[6]\n",
    "\n",
    "# 把營業時間轉成[num,num]\n",
    "for i, j in weeklist:\n",
    "    df2[j] = df2[j].str.replace(':\\d\\d','')\n",
    "    df2[j] = df2[j].str.findall('\\d\\d')\n",
    "\n",
    "# 去除掉沒有營業時間\n",
    "df2 = df2[~df2['thursday'].isna()]\n",
    "\n",
    "for i, j in weeklist:\n",
    "    open_time(i, j)\n",
    "    df2[j] = i"
   ]
  },
  {
   "cell_type": "markdown",
   "id": "72b9cc40",
   "metadata": {},
   "source": [
    "# 餐廳類別分布"
   ]
  },
  {
   "cell_type": "code",
   "execution_count": 19,
   "id": "7e447d4e",
   "metadata": {},
   "outputs": [
    {
     "data": {
      "text/plain": [
       "<AxesSubplot:xlabel='category_new', ylabel='count'>"
      ]
     },
     "execution_count": 19,
     "metadata": {},
     "output_type": "execute_result"
    },
    {
     "data": {
      "image/png": "[encoded data removed]",
      "text/plain": [
       "<Figure size 1080x576 with 1 Axes>"
      ]
     },
     "metadata": {
      "needs_background": "light"
     },
     "output_type": "display_data"
    }
   ],
   "source": [
    "plt.figure(figsize = (15,8))\n",
    "plt.rcParams['font.sans-serif'] = ['Microsoft JhengHei'] \n",
    "sns.countplot(x=df2[\"category_new\"])"
   ]
  },
  {
   "cell_type": "markdown",
   "id": "c9f465ee",
   "metadata": {},
   "source": [
    "# 行政區類別分布"
   ]
  },
  {
   "cell_type": "code",
   "execution_count": 255,
   "id": "c1d7f9d6",
   "metadata": {},
   "outputs": [
    {
     "data": {
      "text/plain": [
       "<AxesSubplot:xlabel='district_new', ylabel='count'>"
      ]
     },
     "execution_count": 255,
     "metadata": {},
     "output_type": "execute_result"
    },
    {
     "data": {
      "image/png": "[encoded data removed]",
      "text/plain": [
       "<Figure size 1500x800 with 1 Axes>"
      ]
     },
     "metadata": {},
     "output_type": "display_data"
    }
   ],
   "source": [
    "plt.figure(figsize = (15,8))\n",
    "plt.rcParams['font.sans-serif'] = ['Microsoft JhengHei'] \n",
    "sns.countplot(x=df2[\"district_new\"])"
   ]
  },
  {
   "cell_type": "markdown",
   "id": "72d62aae",
   "metadata": {},
   "source": [
    "# 評論星數分布"
   ]
  },
  {
   "cell_type": "code",
   "execution_count": 256,
   "id": "9f23f8fd",
   "metadata": {
    "scrolled": false
   },
   "outputs": [
    {
     "data": {
      "text/plain": [
       "<AxesSubplot:xlabel='total_rating', ylabel='count'>"
      ]
     },
     "execution_count": 256,
     "metadata": {},
     "output_type": "execute_result"
    },
    {
     "data": {
      "image/png": "[encoded data removed]",
      "text/plain": [
       "<Figure size 1500x800 with 1 Axes>"
      ]
     },
     "metadata": {},
     "output_type": "display_data"
    }
   ],
   "source": [
    "plt.figure(figsize = (15,8))\n",
    "sns.countplot(x = df2['total_rating'])"
   ]
  }
 ],
 "metadata": {
  "kernelspec": {
   "display_name": "python3.9",
   "language": "python",
   "name": "python3.9"
  },
  "language_info": {
   "codemirror_mode": {
    "name": "ipython",
    "version": 3
   },
   "file_extension": ".py",
   "mimetype": "text/x-python",
   "name": "python",
   "nbconvert_exporter": "python",
   "pygments_lexer": "ipython3",
   "version": "3.8.8"
  }
 },
 "nbformat": 4,
 "nbformat_minor": 5
}
